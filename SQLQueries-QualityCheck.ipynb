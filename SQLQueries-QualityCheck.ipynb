{
  "nbformat": 4,
  "nbformat_minor": 0,
  "metadata": {
    "colab": {
      "provenance": []
    },
    "kernelspec": {
      "name": "python3",
      "display_name": "Python 3"
    },
    "language_info": {
      "name": "python"
    }
  },
  "cells": [
    {
      "cell_type": "markdown",
      "source": [
        "#Brands table"
      ],
      "metadata": {
        "id": "fQEbAgojgb5Z"
      }
    },
    {
      "cell_type": "code",
      "source": [
        "# Import required python libraries\n",
        "import json\n",
        "import pandas as pd\n",
        "import sqlite3\n",
        "\n",
        "# Create a connection to the SQLite database called 'fetch'\n",
        "conn = sqlite3.connect('fetch.db', timeout=10)\n",
        "\n",
        "# Create a cursor object\n",
        "cursor = conn.cursor()\n",
        "\n",
        "# Drop the 'brands' table if it already exists\n",
        "cursor.execute(\"DROP TABLE IF EXISTS brands\")\n",
        "\n",
        "# Commit the changes\n",
        "conn.commit()\n",
        "\n",
        "# Create the 'brands' table\n",
        "create_table_query = '''\n",
        "CREATE TABLE brands (\n",
        "    _id TEXT PRIMARY KEY,\n",
        "    barcode INTEGER,\n",
        "    brandCode TEXT,\n",
        "    category TEXT,\n",
        "    categoryCode TEXT,\n",
        "    cpgId TEXT,\n",
        "    cpgRef TEXT,\n",
        "    topBrand BOOLEAN,\n",
        "    name TEXT\n",
        ")\n",
        "'''\n",
        "cursor.execute(create_table_query)\n",
        "\n",
        "conn.commit()\n",
        "\n",
        "# Read the file line by line and parse each JSON object\n",
        "data_brands = []\n",
        "with open('brands.json', 'r') as file:\n",
        "    for line in file:\n",
        "        #break\n",
        "        #data_list.append(data)\n",
        "        data_brands.append(json.loads(line))\n",
        "\n",
        "# Convert JSON data to a pandas DataFrame and handle nested fields\n",
        "# Flatten the top-level fields and handle nested fields separately\n",
        "for record in data_brands:\n",
        "    _id = record.get('_id', {}).get('$oid')\n",
        "    barcode = record.get('barcode')\n",
        "    brandCode = record.get('brandCode')\n",
        "    category = record.get('category')\n",
        "    categoryCode = record.get('categoryCode')\n",
        "    cpgId = record.get('cpg', {}).get('$id', {}).get('$oid')\n",
        "    cpgRef = record.get('cpg', {}).get('$ref')\n",
        "    #print(cpg)\n",
        "    topBrand = record.get('topBrand')\n",
        "    name = record.get('name')\n",
        "\n",
        "    cursor.execute(\"\"\"\n",
        "        INSERT INTO brands (_id, barcode, brandCode, category, categoryCode, cpgId, cpgRef, topBrand, name)\n",
        "        VALUES (?, ?, ?, ?, ?, ?, ?, ?, ?)\n",
        "    \"\"\", (_id, barcode, brandCode, category, categoryCode, cpgId, cpgRef, topBrand, name))\n",
        "\n",
        "    conn.commit()"
      ],
      "metadata": {
        "id": "b1azit4U6Ivg"
      },
      "execution_count": 173,
      "outputs": []
    },
    {
      "cell_type": "code",
      "source": [
        "# Write a SELECT query to confirm the data in the table\n",
        "example_id = \"601ac115be37ce2ead437551\"\n",
        "query = f\"SELECT * FROM brands WHERE _id='{example_id}'\"\n",
        "result_df = pd.read_sql(query, conn)\n",
        "\n",
        "# Display the queried data\n",
        "print(result_df)\n",
        "\n",
        "# Close the connection\n",
        "conn.close()"
      ],
      "metadata": {
        "colab": {
          "base_uri": "https://localhost:8080/",
          "height": 0
        },
        "id": "Fuucp1U6gIQO",
        "outputId": "b89fd957-c635-4468-c096-c8e31808a500"
      },
      "execution_count": 174,
      "outputs": [
        {
          "output_type": "stream",
          "name": "stdout",
          "text": [
            "                        _id       barcode brandCode category categoryCode  \\\n",
            "0  601ac115be37ce2ead437551  511111019862      None   Baking       BAKING   \n",
            "\n",
            "                      cpgId cpgRef  topBrand                       name  \n",
            "0  601ac114be37ce2ead437550   Cogs         0  test brand @1612366101024  \n"
          ]
        }
      ]
    },
    {
      "cell_type": "code",
      "source": [
        "# Normalize JSON data to DataFrame\n",
        "df = pd.json_normalize(data_brands)\n",
        "\n",
        "# Rename a few columns for clarity\n",
        "df_brands = df.rename(columns={'_id.$oid': 'id', 'cpg.$id.$oid': 'cpgId', 'cpg.$ref': 'cpgRef'})\n",
        "df_brands.head()\n",
        "\n",
        "# Extract relevant columns for the brand table\n",
        "brand_columns = ['id', 'barcode', 'brandCode', 'category', 'categoryCode', 'cpgId', 'cpgRef', 'topBrand', 'name']\n",
        "\n",
        "brands_df = df_brands[brand_columns]\n",
        "\n",
        "# Print first few columns of DataFrame to verify\n",
        "brands_df.head()"
      ],
      "metadata": {
        "colab": {
          "base_uri": "https://localhost:8080/",
          "height": 275
        },
        "id": "OvMAIvnpcrCe",
        "outputId": "64e42e7f-dda7-49ad-e36c-74a9b6995b5e"
      },
      "execution_count": 176,
      "outputs": [
        {
          "output_type": "execute_result",
          "data": {
            "text/plain": [
              "                         id       barcode                      brandCode  \\\n",
              "0  601ac115be37ce2ead437551  511111019862                            NaN   \n",
              "1  601c5460be37ce2ead43755f  511111519928                      STARBUCKS   \n",
              "2  601ac142be37ce2ead43755d  511111819905  TEST BRANDCODE @1612366146176   \n",
              "3  601ac142be37ce2ead43755a  511111519874  TEST BRANDCODE @1612366146051   \n",
              "4  601ac142be37ce2ead43755e  511111319917  TEST BRANDCODE @1612366146827   \n",
              "\n",
              "         category      categoryCode                     cpgId cpgRef topBrand  \\\n",
              "0          Baking            BAKING  601ac114be37ce2ead437550   Cogs    False   \n",
              "1       Beverages         BEVERAGES  5332f5fbe4b03c9a25efd0ba   Cogs    False   \n",
              "2          Baking            BAKING  601ac142be37ce2ead437559   Cogs    False   \n",
              "3          Baking            BAKING  601ac142be37ce2ead437559   Cogs    False   \n",
              "4  Candy & Sweets  CANDY_AND_SWEETS  5332fa12e4b03c9a25efd1e7   Cogs    False   \n",
              "\n",
              "                        name  \n",
              "0  test brand @1612366101024  \n",
              "1                  Starbucks  \n",
              "2  test brand @1612366146176  \n",
              "3  test brand @1612366146051  \n",
              "4  test brand @1612366146827  "
            ],
            "text/html": [
              "\n",
              "  <div id=\"df-24bc117d-3292-4c8a-ae99-0f924662f3d4\" class=\"colab-df-container\">\n",
              "    <div>\n",
              "<style scoped>\n",
              "    .dataframe tbody tr th:only-of-type {\n",
              "        vertical-align: middle;\n",
              "    }\n",
              "\n",
              "    .dataframe tbody tr th {\n",
              "        vertical-align: top;\n",
              "    }\n",
              "\n",
              "    .dataframe thead th {\n",
              "        text-align: right;\n",
              "    }\n",
              "</style>\n",
              "<table border=\"1\" class=\"dataframe\">\n",
              "  <thead>\n",
              "    <tr style=\"text-align: right;\">\n",
              "      <th></th>\n",
              "      <th>id</th>\n",
              "      <th>barcode</th>\n",
              "      <th>brandCode</th>\n",
              "      <th>category</th>\n",
              "      <th>categoryCode</th>\n",
              "      <th>cpgId</th>\n",
              "      <th>cpgRef</th>\n",
              "      <th>topBrand</th>\n",
              "      <th>name</th>\n",
              "    </tr>\n",
              "  </thead>\n",
              "  <tbody>\n",
              "    <tr>\n",
              "      <th>0</th>\n",
              "      <td>601ac115be37ce2ead437551</td>\n",
              "      <td>511111019862</td>\n",
              "      <td>NaN</td>\n",
              "      <td>Baking</td>\n",
              "      <td>BAKING</td>\n",
              "      <td>601ac114be37ce2ead437550</td>\n",
              "      <td>Cogs</td>\n",
              "      <td>False</td>\n",
              "      <td>test brand @1612366101024</td>\n",
              "    </tr>\n",
              "    <tr>\n",
              "      <th>1</th>\n",
              "      <td>601c5460be37ce2ead43755f</td>\n",
              "      <td>511111519928</td>\n",
              "      <td>STARBUCKS</td>\n",
              "      <td>Beverages</td>\n",
              "      <td>BEVERAGES</td>\n",
              "      <td>5332f5fbe4b03c9a25efd0ba</td>\n",
              "      <td>Cogs</td>\n",
              "      <td>False</td>\n",
              "      <td>Starbucks</td>\n",
              "    </tr>\n",
              "    <tr>\n",
              "      <th>2</th>\n",
              "      <td>601ac142be37ce2ead43755d</td>\n",
              "      <td>511111819905</td>\n",
              "      <td>TEST BRANDCODE @1612366146176</td>\n",
              "      <td>Baking</td>\n",
              "      <td>BAKING</td>\n",
              "      <td>601ac142be37ce2ead437559</td>\n",
              "      <td>Cogs</td>\n",
              "      <td>False</td>\n",
              "      <td>test brand @1612366146176</td>\n",
              "    </tr>\n",
              "    <tr>\n",
              "      <th>3</th>\n",
              "      <td>601ac142be37ce2ead43755a</td>\n",
              "      <td>511111519874</td>\n",
              "      <td>TEST BRANDCODE @1612366146051</td>\n",
              "      <td>Baking</td>\n",
              "      <td>BAKING</td>\n",
              "      <td>601ac142be37ce2ead437559</td>\n",
              "      <td>Cogs</td>\n",
              "      <td>False</td>\n",
              "      <td>test brand @1612366146051</td>\n",
              "    </tr>\n",
              "    <tr>\n",
              "      <th>4</th>\n",
              "      <td>601ac142be37ce2ead43755e</td>\n",
              "      <td>511111319917</td>\n",
              "      <td>TEST BRANDCODE @1612366146827</td>\n",
              "      <td>Candy &amp; Sweets</td>\n",
              "      <td>CANDY_AND_SWEETS</td>\n",
              "      <td>5332fa12e4b03c9a25efd1e7</td>\n",
              "      <td>Cogs</td>\n",
              "      <td>False</td>\n",
              "      <td>test brand @1612366146827</td>\n",
              "    </tr>\n",
              "  </tbody>\n",
              "</table>\n",
              "</div>\n",
              "    <div class=\"colab-df-buttons\">\n",
              "\n",
              "  <div class=\"colab-df-container\">\n",
              "    <button class=\"colab-df-convert\" onclick=\"convertToInteractive('df-24bc117d-3292-4c8a-ae99-0f924662f3d4')\"\n",
              "            title=\"Convert this dataframe to an interactive table.\"\n",
              "            style=\"display:none;\">\n",
              "\n",
              "  <svg xmlns=\"http://www.w3.org/2000/svg\" height=\"24px\" viewBox=\"0 -960 960 960\">\n",
              "    <path d=\"M120-120v-720h720v720H120Zm60-500h600v-160H180v160Zm220 220h160v-160H400v160Zm0 220h160v-160H400v160ZM180-400h160v-160H180v160Zm440 0h160v-160H620v160ZM180-180h160v-160H180v160Zm440 0h160v-160H620v160Z\"/>\n",
              "  </svg>\n",
              "    </button>\n",
              "\n",
              "  <style>\n",
              "    .colab-df-container {\n",
              "      display:flex;\n",
              "      gap: 12px;\n",
              "    }\n",
              "\n",
              "    .colab-df-convert {\n",
              "      background-color: #E8F0FE;\n",
              "      border: none;\n",
              "      border-radius: 50%;\n",
              "      cursor: pointer;\n",
              "      display: none;\n",
              "      fill: #1967D2;\n",
              "      height: 32px;\n",
              "      padding: 0 0 0 0;\n",
              "      width: 32px;\n",
              "    }\n",
              "\n",
              "    .colab-df-convert:hover {\n",
              "      background-color: #E2EBFA;\n",
              "      box-shadow: 0px 1px 2px rgba(60, 64, 67, 0.3), 0px 1px 3px 1px rgba(60, 64, 67, 0.15);\n",
              "      fill: #174EA6;\n",
              "    }\n",
              "\n",
              "    .colab-df-buttons div {\n",
              "      margin-bottom: 4px;\n",
              "    }\n",
              "\n",
              "    [theme=dark] .colab-df-convert {\n",
              "      background-color: #3B4455;\n",
              "      fill: #D2E3FC;\n",
              "    }\n",
              "\n",
              "    [theme=dark] .colab-df-convert:hover {\n",
              "      background-color: #434B5C;\n",
              "      box-shadow: 0px 1px 3px 1px rgba(0, 0, 0, 0.15);\n",
              "      filter: drop-shadow(0px 1px 2px rgba(0, 0, 0, 0.3));\n",
              "      fill: #FFFFFF;\n",
              "    }\n",
              "  </style>\n",
              "\n",
              "    <script>\n",
              "      const buttonEl =\n",
              "        document.querySelector('#df-24bc117d-3292-4c8a-ae99-0f924662f3d4 button.colab-df-convert');\n",
              "      buttonEl.style.display =\n",
              "        google.colab.kernel.accessAllowed ? 'block' : 'none';\n",
              "\n",
              "      async function convertToInteractive(key) {\n",
              "        const element = document.querySelector('#df-24bc117d-3292-4c8a-ae99-0f924662f3d4');\n",
              "        const dataTable =\n",
              "          await google.colab.kernel.invokeFunction('convertToInteractive',\n",
              "                                                    [key], {});\n",
              "        if (!dataTable) return;\n",
              "\n",
              "        const docLinkHtml = 'Like what you see? Visit the ' +\n",
              "          '<a target=\"_blank\" href=https://colab.research.google.com/notebooks/data_table.ipynb>data table notebook</a>'\n",
              "          + ' to learn more about interactive tables.';\n",
              "        element.innerHTML = '';\n",
              "        dataTable['output_type'] = 'display_data';\n",
              "        await google.colab.output.renderOutput(dataTable, element);\n",
              "        const docLink = document.createElement('div');\n",
              "        docLink.innerHTML = docLinkHtml;\n",
              "        element.appendChild(docLink);\n",
              "      }\n",
              "    </script>\n",
              "  </div>\n",
              "\n",
              "\n",
              "<div id=\"df-862009d7-e4d9-48d2-8ede-8fa43327ce69\">\n",
              "  <button class=\"colab-df-quickchart\" onclick=\"quickchart('df-862009d7-e4d9-48d2-8ede-8fa43327ce69')\"\n",
              "            title=\"Suggest charts\"\n",
              "            style=\"display:none;\">\n",
              "\n",
              "<svg xmlns=\"http://www.w3.org/2000/svg\" height=\"24px\"viewBox=\"0 0 24 24\"\n",
              "     width=\"24px\">\n",
              "    <g>\n",
              "        <path d=\"M19 3H5c-1.1 0-2 .9-2 2v14c0 1.1.9 2 2 2h14c1.1 0 2-.9 2-2V5c0-1.1-.9-2-2-2zM9 17H7v-7h2v7zm4 0h-2V7h2v10zm4 0h-2v-4h2v4z\"/>\n",
              "    </g>\n",
              "</svg>\n",
              "  </button>\n",
              "\n",
              "<style>\n",
              "  .colab-df-quickchart {\n",
              "      --bg-color: #E8F0FE;\n",
              "      --fill-color: #1967D2;\n",
              "      --hover-bg-color: #E2EBFA;\n",
              "      --hover-fill-color: #174EA6;\n",
              "      --disabled-fill-color: #AAA;\n",
              "      --disabled-bg-color: #DDD;\n",
              "  }\n",
              "\n",
              "  [theme=dark] .colab-df-quickchart {\n",
              "      --bg-color: #3B4455;\n",
              "      --fill-color: #D2E3FC;\n",
              "      --hover-bg-color: #434B5C;\n",
              "      --hover-fill-color: #FFFFFF;\n",
              "      --disabled-bg-color: #3B4455;\n",
              "      --disabled-fill-color: #666;\n",
              "  }\n",
              "\n",
              "  .colab-df-quickchart {\n",
              "    background-color: var(--bg-color);\n",
              "    border: none;\n",
              "    border-radius: 50%;\n",
              "    cursor: pointer;\n",
              "    display: none;\n",
              "    fill: var(--fill-color);\n",
              "    height: 32px;\n",
              "    padding: 0;\n",
              "    width: 32px;\n",
              "  }\n",
              "\n",
              "  .colab-df-quickchart:hover {\n",
              "    background-color: var(--hover-bg-color);\n",
              "    box-shadow: 0 1px 2px rgba(60, 64, 67, 0.3), 0 1px 3px 1px rgba(60, 64, 67, 0.15);\n",
              "    fill: var(--button-hover-fill-color);\n",
              "  }\n",
              "\n",
              "  .colab-df-quickchart-complete:disabled,\n",
              "  .colab-df-quickchart-complete:disabled:hover {\n",
              "    background-color: var(--disabled-bg-color);\n",
              "    fill: var(--disabled-fill-color);\n",
              "    box-shadow: none;\n",
              "  }\n",
              "\n",
              "  .colab-df-spinner {\n",
              "    border: 2px solid var(--fill-color);\n",
              "    border-color: transparent;\n",
              "    border-bottom-color: var(--fill-color);\n",
              "    animation:\n",
              "      spin 1s steps(1) infinite;\n",
              "  }\n",
              "\n",
              "  @keyframes spin {\n",
              "    0% {\n",
              "      border-color: transparent;\n",
              "      border-bottom-color: var(--fill-color);\n",
              "      border-left-color: var(--fill-color);\n",
              "    }\n",
              "    20% {\n",
              "      border-color: transparent;\n",
              "      border-left-color: var(--fill-color);\n",
              "      border-top-color: var(--fill-color);\n",
              "    }\n",
              "    30% {\n",
              "      border-color: transparent;\n",
              "      border-left-color: var(--fill-color);\n",
              "      border-top-color: var(--fill-color);\n",
              "      border-right-color: var(--fill-color);\n",
              "    }\n",
              "    40% {\n",
              "      border-color: transparent;\n",
              "      border-right-color: var(--fill-color);\n",
              "      border-top-color: var(--fill-color);\n",
              "    }\n",
              "    60% {\n",
              "      border-color: transparent;\n",
              "      border-right-color: var(--fill-color);\n",
              "    }\n",
              "    80% {\n",
              "      border-color: transparent;\n",
              "      border-right-color: var(--fill-color);\n",
              "      border-bottom-color: var(--fill-color);\n",
              "    }\n",
              "    90% {\n",
              "      border-color: transparent;\n",
              "      border-bottom-color: var(--fill-color);\n",
              "    }\n",
              "  }\n",
              "</style>\n",
              "\n",
              "  <script>\n",
              "    async function quickchart(key) {\n",
              "      const quickchartButtonEl =\n",
              "        document.querySelector('#' + key + ' button');\n",
              "      quickchartButtonEl.disabled = true;  // To prevent multiple clicks.\n",
              "      quickchartButtonEl.classList.add('colab-df-spinner');\n",
              "      try {\n",
              "        const charts = await google.colab.kernel.invokeFunction(\n",
              "            'suggestCharts', [key], {});\n",
              "      } catch (error) {\n",
              "        console.error('Error during call to suggestCharts:', error);\n",
              "      }\n",
              "      quickchartButtonEl.classList.remove('colab-df-spinner');\n",
              "      quickchartButtonEl.classList.add('colab-df-quickchart-complete');\n",
              "    }\n",
              "    (() => {\n",
              "      let quickchartButtonEl =\n",
              "        document.querySelector('#df-862009d7-e4d9-48d2-8ede-8fa43327ce69 button');\n",
              "      quickchartButtonEl.style.display =\n",
              "        google.colab.kernel.accessAllowed ? 'block' : 'none';\n",
              "    })();\n",
              "  </script>\n",
              "</div>\n",
              "\n",
              "    </div>\n",
              "  </div>\n"
            ],
            "application/vnd.google.colaboratory.intrinsic+json": {
              "type": "dataframe",
              "variable_name": "brands_df",
              "summary": "{\n  \"name\": \"brands_df\",\n  \"rows\": 1167,\n  \"fields\": [\n    {\n      \"column\": \"id\",\n      \"properties\": {\n        \"dtype\": \"string\",\n        \"num_unique_values\": 1167,\n        \"samples\": [\n          \"53501d29b9237fd7718f9e16\",\n          \"5332fa08e4b03c9a25efd1d9\",\n          \"5c76d3cd95144c5375687b4f\"\n        ],\n        \"semantic_type\": \"\",\n        \"description\": \"\"\n      }\n    },\n    {\n      \"column\": \"barcode\",\n      \"properties\": {\n        \"dtype\": \"string\",\n        \"num_unique_values\": 1160,\n        \"samples\": [\n          \"511111203049\",\n          \"511111716648\",\n          \"511111801245\"\n        ],\n        \"semantic_type\": \"\",\n        \"description\": \"\"\n      }\n    },\n    {\n      \"column\": \"brandCode\",\n      \"properties\": {\n        \"dtype\": \"string\",\n        \"num_unique_values\": 897,\n        \"samples\": [\n          \"AMPTEST\",\n          \"NUT HARVEST\",\n          \"TIGI\"\n        ],\n        \"semantic_type\": \"\",\n        \"description\": \"\"\n      }\n    },\n    {\n      \"column\": \"category\",\n      \"properties\": {\n        \"dtype\": \"category\",\n        \"num_unique_values\": 23,\n        \"samples\": [\n          \"Personal Care\",\n          \"Beauty\",\n          \"Baking\"\n        ],\n        \"semantic_type\": \"\",\n        \"description\": \"\"\n      }\n    },\n    {\n      \"column\": \"categoryCode\",\n      \"properties\": {\n        \"dtype\": \"category\",\n        \"num_unique_values\": 14,\n        \"samples\": [\n          \"BREAD_AND_BAKERY\",\n          \"DAIRY_AND_REFRIGERATED\",\n          \"BAKING\"\n        ],\n        \"semantic_type\": \"\",\n        \"description\": \"\"\n      }\n    },\n    {\n      \"column\": \"cpgId\",\n      \"properties\": {\n        \"dtype\": \"category\",\n        \"num_unique_values\": 196,\n        \"samples\": [\n          \"5f4a64e7be37ce17d23b3178\",\n          \"5ff74500be37ce1e961f3276\",\n          \"53e10d6368abd3c7065097cc\"\n        ],\n        \"semantic_type\": \"\",\n        \"description\": \"\"\n      }\n    },\n    {\n      \"column\": \"cpgRef\",\n      \"properties\": {\n        \"dtype\": \"category\",\n        \"num_unique_values\": 2,\n        \"samples\": [\n          \"Cpgs\",\n          \"Cogs\"\n        ],\n        \"semantic_type\": \"\",\n        \"description\": \"\"\n      }\n    },\n    {\n      \"column\": \"topBrand\",\n      \"properties\": {\n        \"dtype\": \"category\",\n        \"num_unique_values\": 2,\n        \"samples\": [\n          true,\n          false\n        ],\n        \"semantic_type\": \"\",\n        \"description\": \"\"\n      }\n    },\n    {\n      \"column\": \"name\",\n      \"properties\": {\n        \"dtype\": \"string\",\n        \"num_unique_values\": 1156,\n        \"samples\": [\n          \"Bayer\\u00ae ASPRIN TAB/ CAPS/ CHEWS\",\n          \"Colorado Native\"\n        ],\n        \"semantic_type\": \"\",\n        \"description\": \"\"\n      }\n    }\n  ]\n}"
            }
          },
          "metadata": {},
          "execution_count": 176
        }
      ]
    },
    {
      "cell_type": "markdown",
      "source": [
        "###Data quality checks for brands table"
      ],
      "metadata": {
        "id": "lctMQuhlggdF"
      }
    },
    {
      "cell_type": "code",
      "source": [
        "# Summary of the DataFrame\n",
        "brands_df.info()"
      ],
      "metadata": {
        "colab": {
          "base_uri": "https://localhost:8080/",
          "height": 0
        },
        "id": "1cSKKeS5wCQW",
        "outputId": "1e445b2e-e671-47e0-82e5-b9111fc6dfe4"
      },
      "execution_count": 177,
      "outputs": [
        {
          "output_type": "stream",
          "name": "stdout",
          "text": [
            "<class 'pandas.core.frame.DataFrame'>\n",
            "RangeIndex: 1167 entries, 0 to 1166\n",
            "Data columns (total 9 columns):\n",
            " #   Column        Non-Null Count  Dtype \n",
            "---  ------        --------------  ----- \n",
            " 0   id            1167 non-null   object\n",
            " 1   barcode       1167 non-null   object\n",
            " 2   brandCode     933 non-null    object\n",
            " 3   category      1012 non-null   object\n",
            " 4   categoryCode  517 non-null    object\n",
            " 5   cpgId         1167 non-null   object\n",
            " 6   cpgRef        1167 non-null   object\n",
            " 7   topBrand      555 non-null    object\n",
            " 8   name          1167 non-null   object\n",
            "dtypes: object(9)\n",
            "memory usage: 82.2+ KB\n"
          ]
        }
      ]
    },
    {
      "cell_type": "code",
      "source": [
        "# To check the number of null values in each variable\n",
        "brands_df.isnull().sum()"
      ],
      "metadata": {
        "colab": {
          "base_uri": "https://localhost:8080/",
          "height": 0
        },
        "id": "Xn68tF78wPlV",
        "outputId": "82a2ac35-0742-4288-cab4-e47a1361a243"
      },
      "execution_count": 178,
      "outputs": [
        {
          "output_type": "execute_result",
          "data": {
            "text/plain": [
              "id                0\n",
              "barcode           0\n",
              "brandCode       234\n",
              "category        155\n",
              "categoryCode    650\n",
              "cpgId             0\n",
              "cpgRef            0\n",
              "topBrand        612\n",
              "name              0\n",
              "dtype: int64"
            ]
          },
          "metadata": {},
          "execution_count": 178
        }
      ]
    },
    {
      "cell_type": "code",
      "source": [
        "# To visualize the % of missing values for each variable\n",
        "percentage_null_values = brands_df.isnull().mean()\n",
        "for key,value in percentage_null_values.items():\n",
        "  if value > 0:\n",
        "    print(key,\":\",value*100)"
      ],
      "metadata": {
        "colab": {
          "base_uri": "https://localhost:8080/",
          "height": 0
        },
        "id": "lHl8OkQfwaMm",
        "outputId": "ad2d513d-0b20-4247-a5b4-416e5e223024"
      },
      "execution_count": 179,
      "outputs": [
        {
          "output_type": "stream",
          "name": "stdout",
          "text": [
            "brandCode : 20.051413881748072\n",
            "category : 13.281919451585262\n",
            "categoryCode : 55.69837189374465\n",
            "topBrand : 52.44215938303341\n"
          ]
        }
      ]
    },
    {
      "cell_type": "code",
      "source": [
        "# To check if there are any duplicate rows in the table\n",
        "print(brands_df.duplicated().sum())\n",
        "print(brands_df[brands_df.duplicated(subset=['id'])])"
      ],
      "metadata": {
        "colab": {
          "base_uri": "https://localhost:8080/",
          "height": 0
        },
        "id": "B0ef5qJY1S_e",
        "outputId": "e8add218-f018-4cd3-9c7f-4550d556e7bf"
      },
      "execution_count": 180,
      "outputs": [
        {
          "output_type": "stream",
          "name": "stdout",
          "text": [
            "0\n",
            "Empty DataFrame\n",
            "Columns: [id, barcode, brandCode, category, categoryCode, cpgId, cpgRef, topBrand, name]\n",
            "Index: []\n"
          ]
        }
      ]
    },
    {
      "cell_type": "code",
      "source": [
        "# To list the unique values in category column\n",
        "brands_df[\"category\"].unique()"
      ],
      "metadata": {
        "colab": {
          "base_uri": "https://localhost:8080/",
          "height": 0
        },
        "id": "bNc0XAxf123O",
        "outputId": "db3568cc-14eb-4d8e-896b-a1b43c76d8ce"
      },
      "execution_count": 181,
      "outputs": [
        {
          "output_type": "execute_result",
          "data": {
            "text/plain": [
              "array(['Baking', 'Beverages', 'Candy & Sweets', 'Condiments & Sauces',\n",
              "       'Canned Goods & Soups', nan, 'Magazines', 'Breakfast & Cereal',\n",
              "       'Beer Wine Spirits', 'Health & Wellness', 'Beauty', 'Baby',\n",
              "       'Frozen', 'Grocery', 'Snacks', 'Household', 'Personal Care',\n",
              "       'Dairy', 'Cleaning & Home Improvement', 'Deli',\n",
              "       'Beauty & Personal Care', 'Bread & Bakery', 'Outdoor',\n",
              "       'Dairy & Refrigerated'], dtype=object)"
            ]
          },
          "metadata": {},
          "execution_count": 181
        }
      ]
    },
    {
      "cell_type": "code",
      "source": [
        "# To check the consistency of 'topBrand'\n",
        "print(brands_df['topBrand'].value_counts())"
      ],
      "metadata": {
        "colab": {
          "base_uri": "https://localhost:8080/",
          "height": 0
        },
        "id": "2PyhtRSl2Ajy",
        "outputId": "89b10cfa-27e9-4928-b8de-c8f2dabf86f7"
      },
      "execution_count": 182,
      "outputs": [
        {
          "output_type": "stream",
          "name": "stdout",
          "text": [
            "topBrand\n",
            "False    524\n",
            "True      31\n",
            "Name: count, dtype: int64\n"
          ]
        }
      ]
    },
    {
      "cell_type": "code",
      "source": [
        "# To check the consistency of 'category' and 'categoryCode'\n",
        "category_consistency = brands_df.groupby('category')['categoryCode'].nunique()\n",
        "print(category_consistency[category_consistency > 1])"
      ],
      "metadata": {
        "colab": {
          "base_uri": "https://localhost:8080/",
          "height": 0
        },
        "id": "SuyGwKM83sFR",
        "outputId": "3449058b-7368-4b72-ff9a-90885eb3d572"
      },
      "execution_count": 183,
      "outputs": [
        {
          "output_type": "stream",
          "name": "stdout",
          "text": [
            "Series([], Name: categoryCode, dtype: int64)\n"
          ]
        }
      ]
    },
    {
      "cell_type": "code",
      "source": [
        "freq_category=100*(brands_df['category'].value_counts()/len(brands_df))\n",
        "print(freq_category.map('{:,.2f}%'.format))"
      ],
      "metadata": {
        "colab": {
          "base_uri": "https://localhost:8080/",
          "height": 158
        },
        "id": "5Q4j7a0Wpgjh",
        "outputId": "0438136d-43eb-42eb-8f1f-fc674d155e66"
      },
      "execution_count": 2,
      "outputs": [
        {
          "output_type": "error",
          "ename": "NameError",
          "evalue": "name 'brands_df' is not defined",
          "traceback": [
            "\u001b[0;31m---------------------------------------------------------------------------\u001b[0m",
            "\u001b[0;31mNameError\u001b[0m                                 Traceback (most recent call last)",
            "\u001b[0;32m<ipython-input-2-88ade8f56e7f>\u001b[0m in \u001b[0;36m<cell line: 1>\u001b[0;34m()\u001b[0m\n\u001b[0;32m----> 1\u001b[0;31m \u001b[0mfreq_category\u001b[0m\u001b[0;34m=\u001b[0m\u001b[0;36m100\u001b[0m\u001b[0;34m*\u001b[0m\u001b[0;34m(\u001b[0m\u001b[0mbrands_df\u001b[0m\u001b[0;34m[\u001b[0m\u001b[0;34m'category'\u001b[0m\u001b[0;34m]\u001b[0m\u001b[0;34m.\u001b[0m\u001b[0mvalue_counts\u001b[0m\u001b[0;34m(\u001b[0m\u001b[0;34m)\u001b[0m\u001b[0;34m/\u001b[0m\u001b[0mlen\u001b[0m\u001b[0;34m(\u001b[0m\u001b[0mbrands_df\u001b[0m\u001b[0;34m)\u001b[0m\u001b[0;34m)\u001b[0m\u001b[0;34m\u001b[0m\u001b[0;34m\u001b[0m\u001b[0m\n\u001b[0m\u001b[1;32m      2\u001b[0m \u001b[0mprint\u001b[0m\u001b[0;34m(\u001b[0m\u001b[0mfreq_category\u001b[0m\u001b[0;34m.\u001b[0m\u001b[0mmap\u001b[0m\u001b[0;34m(\u001b[0m\u001b[0;34m'{:,.2f}%'\u001b[0m\u001b[0;34m.\u001b[0m\u001b[0mformat\u001b[0m\u001b[0;34m)\u001b[0m\u001b[0;34m)\u001b[0m\u001b[0;34m\u001b[0m\u001b[0;34m\u001b[0m\u001b[0m\n",
            "\u001b[0;31mNameError\u001b[0m: name 'brands_df' is not defined"
          ]
        }
      ]
    },
    {
      "cell_type": "code",
      "source": [
        "import matplotlib.pyplot as plt\n",
        "\n",
        "# Value Distribution for 'topBrand' variable\n",
        "value_counts = brands_df['topBrand'].value_counts()\n",
        "ax = value_counts.plot(kind='bar')\n",
        "plt.title('Top Brand Distribution')\n",
        "plt.xlabel('Top Brand')\n",
        "plt.ylabel('Count')\n",
        "\n",
        "# Adding data labels on the bars\n",
        "for i in ax.containers:\n",
        "    ax.bar_label(i, label_type='edge')\n",
        "\n",
        "plt.show()"
      ],
      "metadata": {
        "colab": {
          "base_uri": "https://localhost:8080/",
          "height": 493
        },
        "id": "VPNdI7AX5ViX",
        "outputId": "bcc5c715-abbf-442e-b584-072f20bad0f7"
      },
      "execution_count": 184,
      "outputs": [
        {
          "output_type": "display_data",
          "data": {
            "text/plain": [
              "<Figure size 640x480 with 1 Axes>"
            ],
            "image/png": "[encoded data removed]"
          },
          "metadata": {}
        }
      ]
    },
    {
      "cell_type": "markdown",
      "source": [
        "#Users table"
      ],
      "metadata": {
        "id": "AtWLHnGfgY3C"
      }
    },
    {
      "cell_type": "code",
      "source": [
        "# Create a connection to the SQLite database\n",
        "conn = sqlite3.connect('fetch.db', timeout=10)\n",
        "\n",
        "# Create a cursor object\n",
        "cursor = conn.cursor()\n",
        "\n",
        "# Drop the 'users' table if it already exists\n",
        "cursor.execute(\"DROP TABLE IF EXISTS users\")\n",
        "\n",
        "# Commit the changes\n",
        "conn.commit()\n",
        "\n",
        "# Create the 'users' table\n",
        "create_table_query = '''\n",
        "CREATE TABLE users (\n",
        "    _id TEXT PRIMARY KEY,\n",
        "    active BOOELAN,\n",
        "    createdDate TEXT,\n",
        "    lastLogin TEXT,\n",
        "    role TEXT DEFAULT 'CONSUMER',\n",
        "    signUpSource TEXT,\n",
        "    state TEXT\n",
        ")\n",
        "'''\n",
        "cursor.execute(create_table_query)\n",
        "\n",
        "conn.commit()\n",
        "\n",
        "data_users = []\n",
        "with open('users.json', 'r') as file:\n",
        "    for line in file:\n",
        "        #data_list.append(data)\n",
        "        data_users.append(json.loads(line))\n",
        "\n",
        "# Normalize JSON data to DataFrame\n",
        "df = pd.json_normalize(data_users)\n",
        "\n",
        "# Rename '_id.$oid' to 'id' for clarity\n",
        "df_users = df.rename(columns={'_id.$oid': '_id', 'createdDate.$date': 'createdDate', 'lastLogin.$date': 'lastLogin'})\n",
        "df_users.head()\n",
        "\n",
        "# Convert datetime fields to a readable format\n",
        "df_users['createdDate'] = pd.to_datetime(df_users['createdDate'], unit='ms').dt.strftime('%Y-%m-%d %H:%M:%S')\n",
        "df_users['lastLogin'] = pd.to_datetime(df_users['lastLogin'], unit='ms').dt.strftime('%Y-%m-%d %H:%M:%S')\n",
        "\n",
        "# Extract relevant columns for the brand table\n",
        "user_columns = ['_id', 'active', 'createdDate', 'lastLogin', 'role', 'signUpSource', 'state']\n",
        "\n",
        "duplicates = df_users.duplicated().sum()\n",
        "print(\"Number of duplicate records:\", duplicates)\n",
        "print(\"Total number of records:\", len(df_users))\n",
        "\n",
        "dropped_df = df_users.drop_duplicates(subset=['_id'])\n",
        "\n",
        "users_df = dropped_df[user_columns]\n",
        "print(\"Number of unique records:\", len(users_df))\n",
        "\n",
        "users_df.head()"
      ],
      "metadata": {
        "colab": {
          "base_uri": "https://localhost:8080/",
          "height": 258
        },
        "id": "OOwmpRTR2Z5T",
        "outputId": "fb3c85f9-e44e-4c6e-d055-1b9f5a641510"
      },
      "execution_count": 195,
      "outputs": [
        {
          "output_type": "stream",
          "name": "stdout",
          "text": [
            "Number of duplicate records: 283\n",
            "Total number of records: 495\n",
            "Number of unique records: 212\n"
          ]
        },
        {
          "output_type": "execute_result",
          "data": {
            "text/plain": [
              "                        _id  active          createdDate            lastLogin  \\\n",
              "0  5ff1e194b6a9d73a3a9f1052    True  2021-01-03 15:24:04  2021-01-03 15:25:37   \n",
              "3  5ff1e1eacfcf6c399c274ae6    True  2021-01-03 15:25:30  2021-01-03 15:25:30   \n",
              "6  5ff1e1e8cfcf6c399c274ad9    True  2021-01-03 15:25:28  2021-01-03 15:25:28   \n",
              "7  5ff1e1b7cfcf6c399c274a5a    True  2021-01-03 15:24:39  2021-01-03 15:24:39   \n",
              "9  5ff1e1f1cfcf6c399c274b0b    True  2021-01-03 15:25:37  2021-01-03 15:25:37   \n",
              "\n",
              "       role signUpSource state  \n",
              "0  consumer        Email    WI  \n",
              "3  consumer        Email    WI  \n",
              "6  consumer        Email    WI  \n",
              "7  consumer        Email    WI  \n",
              "9  consumer        Email    WI  "
            ],
            "text/html": [
              "\n",
              "  <div id=\"df-e6b1deda-c9da-4f7e-bdc1-8562d0327202\" class=\"colab-df-container\">\n",
              "    <div>\n",
              "<style scoped>\n",
              "    .dataframe tbody tr th:only-of-type {\n",
              "        vertical-align: middle;\n",
              "    }\n",
              "\n",
              "    .dataframe tbody tr th {\n",
              "        vertical-align: top;\n",
              "    }\n",
              "\n",
              "    .dataframe thead th {\n",
              "        text-align: right;\n",
              "    }\n",
              "</style>\n",
              "<table border=\"1\" class=\"dataframe\">\n",
              "  <thead>\n",
              "    <tr style=\"text-align: right;\">\n",
              "      <th></th>\n",
              "      <th>_id</th>\n",
              "      <th>active</th>\n",
              "      <th>createdDate</th>\n",
              "      <th>lastLogin</th>\n",
              "      <th>role</th>\n",
              "      <th>signUpSource</th>\n",
              "      <th>state</th>\n",
              "    </tr>\n",
              "  </thead>\n",
              "  <tbody>\n",
              "    <tr>\n",
              "      <th>0</th>\n",
              "      <td>5ff1e194b6a9d73a3a9f1052</td>\n",
              "      <td>True</td>\n",
              "      <td>2021-01-03 15:24:04</td>\n",
              "      <td>2021-01-03 15:25:37</td>\n",
              "      <td>consumer</td>\n",
              "      <td>Email</td>\n",
              "      <td>WI</td>\n",
              "    </tr>\n",
              "    <tr>\n",
              "      <th>3</th>\n",
              "      <td>5ff1e1eacfcf6c399c274ae6</td>\n",
              "      <td>True</td>\n",
              "      <td>2021-01-03 15:25:30</td>\n",
              "      <td>2021-01-03 15:25:30</td>\n",
              "      <td>consumer</td>\n",
              "      <td>Email</td>\n",
              "      <td>WI</td>\n",
              "    </tr>\n",
              "    <tr>\n",
              "      <th>6</th>\n",
              "      <td>5ff1e1e8cfcf6c399c274ad9</td>\n",
              "      <td>True</td>\n",
              "      <td>2021-01-03 15:25:28</td>\n",
              "      <td>2021-01-03 15:25:28</td>\n",
              "      <td>consumer</td>\n",
              "      <td>Email</td>\n",
              "      <td>WI</td>\n",
              "    </tr>\n",
              "    <tr>\n",
              "      <th>7</th>\n",
              "      <td>5ff1e1b7cfcf6c399c274a5a</td>\n",
              "      <td>True</td>\n",
              "      <td>2021-01-03 15:24:39</td>\n",
              "      <td>2021-01-03 15:24:39</td>\n",
              "      <td>consumer</td>\n",
              "      <td>Email</td>\n",
              "      <td>WI</td>\n",
              "    </tr>\n",
              "    <tr>\n",
              "      <th>9</th>\n",
              "      <td>5ff1e1f1cfcf6c399c274b0b</td>\n",
              "      <td>True</td>\n",
              "      <td>2021-01-03 15:25:37</td>\n",
              "      <td>2021-01-03 15:25:37</td>\n",
              "      <td>consumer</td>\n",
              "      <td>Email</td>\n",
              "      <td>WI</td>\n",
              "    </tr>\n",
              "  </tbody>\n",
              "</table>\n",
              "</div>\n",
              "    <div class=\"colab-df-buttons\">\n",
              "\n",
              "  <div class=\"colab-df-container\">\n",
              "    <button class=\"colab-df-convert\" onclick=\"convertToInteractive('df-e6b1deda-c9da-4f7e-bdc1-8562d0327202')\"\n",
              "            title=\"Convert this dataframe to an interactive table.\"\n",
              "            style=\"display:none;\">\n",
              "\n",
              "  <svg xmlns=\"http://www.w3.org/2000/svg\" height=\"24px\" viewBox=\"0 -960 960 960\">\n",
              "    <path d=\"M120-120v-720h720v720H120Zm60-500h600v-160H180v160Zm220 220h160v-160H400v160Zm0 220h160v-160H400v160ZM180-400h160v-160H180v160Zm440 0h160v-160H620v160ZM180-180h160v-160H180v160Zm440 0h160v-160H620v160Z\"/>\n",
              "  </svg>\n",
              "    </button>\n",
              "\n",
              "  <style>\n",
              "    .colab-df-container {\n",
              "      display:flex;\n",
              "      gap: 12px;\n",
              "    }\n",
              "\n",
              "    .colab-df-convert {\n",
              "      background-color: #E8F0FE;\n",
              "      border: none;\n",
              "      border-radius: 50%;\n",
              "      cursor: pointer;\n",
              "      display: none;\n",
              "      fill: #1967D2;\n",
              "      height: 32px;\n",
              "      padding: 0 0 0 0;\n",
              "      width: 32px;\n",
              "    }\n",
              "\n",
              "    .colab-df-convert:hover {\n",
              "      background-color: #E2EBFA;\n",
              "      box-shadow: 0px 1px 2px rgba(60, 64, 67, 0.3), 0px 1px 3px 1px rgba(60, 64, 67, 0.15);\n",
              "      fill: #174EA6;\n",
              "    }\n",
              "\n",
              "    .colab-df-buttons div {\n",
              "      margin-bottom: 4px;\n",
              "    }\n",
              "\n",
              "    [theme=dark] .colab-df-convert {\n",
              "      background-color: #3B4455;\n",
              "      fill: #D2E3FC;\n",
              "    }\n",
              "\n",
              "    [theme=dark] .colab-df-convert:hover {\n",
              "      background-color: #434B5C;\n",
              "      box-shadow: 0px 1px 3px 1px rgba(0, 0, 0, 0.15);\n",
              "      filter: drop-shadow(0px 1px 2px rgba(0, 0, 0, 0.3));\n",
              "      fill: #FFFFFF;\n",
              "    }\n",
              "  </style>\n",
              "\n",
              "    <script>\n",
              "      const buttonEl =\n",
              "        document.querySelector('#df-e6b1deda-c9da-4f7e-bdc1-8562d0327202 button.colab-df-convert');\n",
              "      buttonEl.style.display =\n",
              "        google.colab.kernel.accessAllowed ? 'block' : 'none';\n",
              "\n",
              "      async function convertToInteractive(key) {\n",
              "        const element = document.querySelector('#df-e6b1deda-c9da-4f7e-bdc1-8562d0327202');\n",
              "        const dataTable =\n",
              "          await google.colab.kernel.invokeFunction('convertToInteractive',\n",
              "                                                    [key], {});\n",
              "        if (!dataTable) return;\n",
              "\n",
              "        const docLinkHtml = 'Like what you see? Visit the ' +\n",
              "          '<a target=\"_blank\" href=https://colab.research.google.com/notebooks/data_table.ipynb>data table notebook</a>'\n",
              "          + ' to learn more about interactive tables.';\n",
              "        element.innerHTML = '';\n",
              "        dataTable['output_type'] = 'display_data';\n",
              "        await google.colab.output.renderOutput(dataTable, element);\n",
              "        const docLink = document.createElement('div');\n",
              "        docLink.innerHTML = docLinkHtml;\n",
              "        element.appendChild(docLink);\n",
              "      }\n",
              "    </script>\n",
              "  </div>\n",
              "\n",
              "\n",
              "<div id=\"df-c944df31-ae27-4c81-bfa6-5d6bf3938239\">\n",
              "  <button class=\"colab-df-quickchart\" onclick=\"quickchart('df-c944df31-ae27-4c81-bfa6-5d6bf3938239')\"\n",
              "            title=\"Suggest charts\"\n",
              "            style=\"display:none;\">\n",
              "\n",
              "<svg xmlns=\"http://www.w3.org/2000/svg\" height=\"24px\"viewBox=\"0 0 24 24\"\n",
              "     width=\"24px\">\n",
              "    <g>\n",
              "        <path d=\"M19 3H5c-1.1 0-2 .9-2 2v14c0 1.1.9 2 2 2h14c1.1 0 2-.9 2-2V5c0-1.1-.9-2-2-2zM9 17H7v-7h2v7zm4 0h-2V7h2v10zm4 0h-2v-4h2v4z\"/>\n",
              "    </g>\n",
              "</svg>\n",
              "  </button>\n",
              "\n",
              "<style>\n",
              "  .colab-df-quickchart {\n",
              "      --bg-color: #E8F0FE;\n",
              "      --fill-color: #1967D2;\n",
              "      --hover-bg-color: #E2EBFA;\n",
              "      --hover-fill-color: #174EA6;\n",
              "      --disabled-fill-color: #AAA;\n",
              "      --disabled-bg-color: #DDD;\n",
              "  }\n",
              "\n",
              "  [theme=dark] .colab-df-quickchart {\n",
              "      --bg-color: #3B4455;\n",
              "      --fill-color: #D2E3FC;\n",
              "      --hover-bg-color: #434B5C;\n",
              "      --hover-fill-color: #FFFFFF;\n",
              "      --disabled-bg-color: #3B4455;\n",
              "      --disabled-fill-color: #666;\n",
              "  }\n",
              "\n",
              "  .colab-df-quickchart {\n",
              "    background-color: var(--bg-color);\n",
              "    border: none;\n",
              "    border-radius: 50%;\n",
              "    cursor: pointer;\n",
              "    display: none;\n",
              "    fill: var(--fill-color);\n",
              "    height: 32px;\n",
              "    padding: 0;\n",
              "    width: 32px;\n",
              "  }\n",
              "\n",
              "  .colab-df-quickchart:hover {\n",
              "    background-color: var(--hover-bg-color);\n",
              "    box-shadow: 0 1px 2px rgba(60, 64, 67, 0.3), 0 1px 3px 1px rgba(60, 64, 67, 0.15);\n",
              "    fill: var(--button-hover-fill-color);\n",
              "  }\n",
              "\n",
              "  .colab-df-quickchart-complete:disabled,\n",
              "  .colab-df-quickchart-complete:disabled:hover {\n",
              "    background-color: var(--disabled-bg-color);\n",
              "    fill: var(--disabled-fill-color);\n",
              "    box-shadow: none;\n",
              "  }\n",
              "\n",
              "  .colab-df-spinner {\n",
              "    border: 2px solid var(--fill-color);\n",
              "    border-color: transparent;\n",
              "    border-bottom-color: var(--fill-color);\n",
              "    animation:\n",
              "      spin 1s steps(1) infinite;\n",
              "  }\n",
              "\n",
              "  @keyframes spin {\n",
              "    0% {\n",
              "      border-color: transparent;\n",
              "      border-bottom-color: var(--fill-color);\n",
              "      border-left-color: var(--fill-color);\n",
              "    }\n",
              "    20% {\n",
              "      border-color: transparent;\n",
              "      border-left-color: var(--fill-color);\n",
              "      border-top-color: var(--fill-color);\n",
              "    }\n",
              "    30% {\n",
              "      border-color: transparent;\n",
              "      border-left-color: var(--fill-color);\n",
              "      border-top-color: var(--fill-color);\n",
              "      border-right-color: var(--fill-color);\n",
              "    }\n",
              "    40% {\n",
              "      border-color: transparent;\n",
              "      border-right-color: var(--fill-color);\n",
              "      border-top-color: var(--fill-color);\n",
              "    }\n",
              "    60% {\n",
              "      border-color: transparent;\n",
              "      border-right-color: var(--fill-color);\n",
              "    }\n",
              "    80% {\n",
              "      border-color: transparent;\n",
              "      border-right-color: var(--fill-color);\n",
              "      border-bottom-color: var(--fill-color);\n",
              "    }\n",
              "    90% {\n",
              "      border-color: transparent;\n",
              "      border-bottom-color: var(--fill-color);\n",
              "    }\n",
              "  }\n",
              "</style>\n",
              "\n",
              "  <script>\n",
              "    async function quickchart(key) {\n",
              "      const quickchartButtonEl =\n",
              "        document.querySelector('#' + key + ' button');\n",
              "      quickchartButtonEl.disabled = true;  // To prevent multiple clicks.\n",
              "      quickchartButtonEl.classList.add('colab-df-spinner');\n",
              "      try {\n",
              "        const charts = await google.colab.kernel.invokeFunction(\n",
              "            'suggestCharts', [key], {});\n",
              "      } catch (error) {\n",
              "        console.error('Error during call to suggestCharts:', error);\n",
              "      }\n",
              "      quickchartButtonEl.classList.remove('colab-df-spinner');\n",
              "      quickchartButtonEl.classList.add('colab-df-quickchart-complete');\n",
              "    }\n",
              "    (() => {\n",
              "      let quickchartButtonEl =\n",
              "        document.querySelector('#df-c944df31-ae27-4c81-bfa6-5d6bf3938239 button');\n",
              "      quickchartButtonEl.style.display =\n",
              "        google.colab.kernel.accessAllowed ? 'block' : 'none';\n",
              "    })();\n",
              "  </script>\n",
              "</div>\n",
              "\n",
              "    </div>\n",
              "  </div>\n"
            ],
            "application/vnd.google.colaboratory.intrinsic+json": {
              "type": "dataframe",
              "variable_name": "users_df",
              "summary": "{\n  \"name\": \"users_df\",\n  \"rows\": 212,\n  \"fields\": [\n    {\n      \"column\": \"_id\",\n      \"properties\": {\n        \"dtype\": \"string\",\n        \"num_unique_values\": 212,\n        \"samples\": [\n          \"5ff7930fb3348b11c93372a6\",\n          \"60182f4ac8b50e11d8454946\",\n          \"6011f31ea4b74c18d3a8c476\"\n        ],\n        \"semantic_type\": \"\",\n        \"description\": \"\"\n      }\n    },\n    {\n      \"column\": \"active\",\n      \"properties\": {\n        \"dtype\": \"boolean\",\n        \"num_unique_values\": 2,\n        \"samples\": [\n          false,\n          true\n        ],\n        \"semantic_type\": \"\",\n        \"description\": \"\"\n      }\n    },\n    {\n      \"column\": \"createdDate\",\n      \"properties\": {\n        \"dtype\": \"object\",\n        \"num_unique_values\": 212,\n        \"samples\": [\n          \"2021-01-07 23:02:39\",\n          \"2021-02-01 16:41:46\"\n        ],\n        \"semantic_type\": \"\",\n        \"description\": \"\"\n      }\n    },\n    {\n      \"column\": \"lastLogin\",\n      \"properties\": {\n        \"dtype\": \"object\",\n        \"num_unique_values\": 171,\n        \"samples\": [\n          \"2021-01-25 14:29:24\",\n          \"2021-01-11 19:12:06\"\n        ],\n        \"semantic_type\": \"\",\n        \"description\": \"\"\n      }\n    },\n    {\n      \"column\": \"role\",\n      \"properties\": {\n        \"dtype\": \"category\",\n        \"num_unique_values\": 2,\n        \"samples\": [\n          \"fetch-staff\",\n          \"consumer\"\n        ],\n        \"semantic_type\": \"\",\n        \"description\": \"\"\n      }\n    },\n    {\n      \"column\": \"signUpSource\",\n      \"properties\": {\n        \"dtype\": \"category\",\n        \"num_unique_values\": 2,\n        \"samples\": [\n          \"Google\",\n          \"Email\"\n        ],\n        \"semantic_type\": \"\",\n        \"description\": \"\"\n      }\n    },\n    {\n      \"column\": \"state\",\n      \"properties\": {\n        \"dtype\": \"category\",\n        \"num_unique_values\": 8,\n        \"samples\": [\n          \"KY\",\n          \"OH\"\n        ],\n        \"semantic_type\": \"\",\n        \"description\": \"\"\n      }\n    }\n  ]\n}"
            }
          },
          "metadata": {},
          "execution_count": 195
        }
      ]
    },
    {
      "cell_type": "code",
      "source": [
        "# Iterate over the DataFrame to extract values from variables\n",
        "for index, row in users_df.iterrows():\n",
        "    _id = row['_id']\n",
        "    createdDate = row['createdDate']\n",
        "    lastLogin = row['lastLogin']\n",
        "    active = row['active']\n",
        "    role = row['role']\n",
        "    signUpSource = row['signUpSource']\n",
        "    state = row['state']\n",
        "\n",
        "    # Insert the data into respective columns\n",
        "    cursor.execute(\"\"\"\n",
        "        INSERT INTO users (_id, active, createdDate, lastLogin, role, signUpSource, state)\n",
        "        VALUES (?, ?, ?, ?, ?, ?, ?)\n",
        "    \"\"\", (_id, active, createdDate, lastLogin, role, signUpSource, state))\n",
        "\n",
        "    conn.commit()\n",
        "\n",
        "# Write a SELECT query to verfiy the data in table\n",
        "query = f\"SELECT * FROM users\"\n",
        "result_df = pd.read_sql(query, conn)\n",
        "\n",
        "# Display the queried data\n",
        "print(result_df)\n",
        "\n",
        "# Close the connection\n",
        "conn.close()"
      ],
      "metadata": {
        "colab": {
          "base_uri": "https://localhost:8080/",
          "height": 0
        },
        "id": "equAHm-F5zBi",
        "outputId": "1be21b44-c983-496c-9470-5c0da9922f4a"
      },
      "execution_count": 196,
      "outputs": [
        {
          "output_type": "stream",
          "name": "stdout",
          "text": [
            "                          _id  active          createdDate  \\\n",
            "0    5ff1e194b6a9d73a3a9f1052       1  2021-01-03 15:24:04   \n",
            "1    5ff1e1eacfcf6c399c274ae6       1  2021-01-03 15:25:30   \n",
            "2    5ff1e1e8cfcf6c399c274ad9       1  2021-01-03 15:25:28   \n",
            "3    5ff1e1b7cfcf6c399c274a5a       1  2021-01-03 15:24:39   \n",
            "4    5ff1e1f1cfcf6c399c274b0b       1  2021-01-03 15:25:37   \n",
            "..                        ...     ...                  ...   \n",
            "207  5fc961c3b8cfca11a077dd33       1  2020-12-03 22:08:03   \n",
            "208  5fa41775898c7a11a6bcef3e       1  2020-11-05 15:17:09   \n",
            "209  5fa32b4d898c7a11a6bcebce       1  2020-11-04 22:29:33   \n",
            "210  5964eb07e4b03efd0c0f267b       1  2017-07-11 15:13:11   \n",
            "211  54943462e4b07e684157a532       1  2014-12-19 14:21:22   \n",
            "\n",
            "               lastLogin         role signUpSource state  \n",
            "0    2021-01-03 15:25:37     consumer        Email    WI  \n",
            "1    2021-01-03 15:25:30     consumer        Email    WI  \n",
            "2    2021-01-03 15:25:28     consumer        Email    WI  \n",
            "3    2021-01-03 15:24:39     consumer        Email    WI  \n",
            "4    2021-01-03 15:25:37     consumer        Email    WI  \n",
            "..                   ...          ...          ...   ...  \n",
            "207  2021-02-26 22:39:16  fetch-staff        Email    NH  \n",
            "208  2021-03-04 16:02:02  fetch-staff        Email  None  \n",
            "209  2021-03-04 07:21:58  fetch-staff       Google    AL  \n",
            "210  2021-03-04 19:07:49  fetch-staff         None    IL  \n",
            "211  2021-03-05 16:52:23  fetch-staff         None  None  \n",
            "\n",
            "[212 rows x 7 columns]\n"
          ]
        }
      ]
    },
    {
      "cell_type": "markdown",
      "source": [
        "##Data quality checks for users table"
      ],
      "metadata": {
        "id": "LSeydUOh7mIZ"
      }
    },
    {
      "cell_type": "code",
      "source": [
        "# View summary of the table\n",
        "users_df.info()"
      ],
      "metadata": {
        "colab": {
          "base_uri": "https://localhost:8080/",
          "height": 0
        },
        "id": "7i6aiQ6iDzlp",
        "outputId": "08561ce8-8591-4378-c8df-8d3cbd13e5ba"
      },
      "execution_count": 88,
      "outputs": [
        {
          "output_type": "stream",
          "name": "stdout",
          "text": [
            "<class 'pandas.core.frame.DataFrame'>\n",
            "Index: 212 entries, 0 to 475\n",
            "Data columns (total 7 columns):\n",
            " #   Column        Non-Null Count  Dtype \n",
            "---  ------        --------------  ----- \n",
            " 0   _id           212 non-null    object\n",
            " 1   active        212 non-null    bool  \n",
            " 2   createdDate   212 non-null    object\n",
            " 3   lastLogin     172 non-null    object\n",
            " 4   role          212 non-null    object\n",
            " 5   signUpSource  207 non-null    object\n",
            " 6   state         206 non-null    object\n",
            "dtypes: bool(1), object(6)\n",
            "memory usage: 19.9+ KB\n"
          ]
        }
      ]
    },
    {
      "cell_type": "code",
      "source": [
        "# Check for duplicates\n",
        "duplicates = users_df.duplicated().sum()\n",
        "print(duplicates)"
      ],
      "metadata": {
        "colab": {
          "base_uri": "https://localhost:8080/",
          "height": 0
        },
        "id": "MWhIPLpxD5Cr",
        "outputId": "e6ae140e-f254-4321-a657-88e9729d279c"
      },
      "execution_count": 89,
      "outputs": [
        {
          "output_type": "stream",
          "name": "stdout",
          "text": [
            "0\n"
          ]
        }
      ]
    },
    {
      "cell_type": "code",
      "source": [
        "# Check for Missing Values\n",
        "missing_values = users_df.isnull().sum()\n",
        "print(missing_values)"
      ],
      "metadata": {
        "colab": {
          "base_uri": "https://localhost:8080/",
          "height": 0
        },
        "id": "IVVku8neDnk3",
        "outputId": "bb81a24b-5dbb-486f-d638-db04971dd805"
      },
      "execution_count": 90,
      "outputs": [
        {
          "output_type": "stream",
          "name": "stdout",
          "text": [
            "_id              0\n",
            "active           0\n",
            "createdDate      0\n",
            "lastLogin       40\n",
            "role             0\n",
            "signUpSource     5\n",
            "state            6\n",
            "dtype: int64\n"
          ]
        }
      ]
    },
    {
      "cell_type": "code",
      "source": [
        "# Validate State Abbreviations\n",
        "valid_states = set(['AL', 'AK', 'AZ', 'AR', 'CA', 'CO', 'CT', 'DE', 'FL', 'GA',\n",
        "                    'HI', 'ID', 'IL', 'IN', 'IA', 'KS', 'KY', 'LA', 'ME', 'MD',\n",
        "                    'MA', 'MI', 'MN', 'MS', 'MO', 'MT', 'NE', 'NV', 'NH', 'NJ',\n",
        "                    'NM', 'NY', 'NC', 'ND', 'OH', 'OK', 'OR', 'PA', 'RI', 'SC',\n",
        "                    'SD', 'TN', 'TX', 'UT', 'VT', 'VA', 'WA', 'WV', 'WI', 'WY'])\n",
        "invalid_states = users_df[~users_df['state'].isin(valid_states)]\n",
        "print(invalid_states)"
      ],
      "metadata": {
        "colab": {
          "base_uri": "https://localhost:8080/",
          "height": 0
        },
        "id": "InRKWG4CEFaO",
        "outputId": "96c01ba4-d19e-44f6-ca7f-b1cc751dc1f7"
      },
      "execution_count": 91,
      "outputs": [
        {
          "output_type": "stream",
          "name": "stdout",
          "text": [
            "                          _id  active          createdDate  \\\n",
            "344  60145ff384231211ce796d51    True  2021-01-29 19:20:19   \n",
            "375  60186237c8b50e11d8454d5f    True  2021-02-01 20:19:03   \n",
            "422  5a43c08fe4b014fd6b6a0612    True  2017-12-27 15:47:27   \n",
            "432  5fbc35711d967d1222cbfefc    True  2020-11-23 22:19:29   \n",
            "455  5fa41775898c7a11a6bcef3e    True  2020-11-05 15:17:09   \n",
            "475  54943462e4b07e684157a532    True  2014-12-19 14:21:22   \n",
            "\n",
            "               lastLogin         role signUpSource state  \n",
            "344                  NaN     consumer        Email   NaN  \n",
            "375                  NaN     consumer        Email   NaN  \n",
            "422  2021-02-12 16:22:37     consumer          NaN   NaN  \n",
            "432  2021-02-26 04:25:51  fetch-staff        Email   NaN  \n",
            "455  2021-03-04 16:02:02  fetch-staff        Email   NaN  \n",
            "475  2021-03-05 16:52:23  fetch-staff          NaN   NaN  \n"
          ]
        }
      ]
    },
    {
      "cell_type": "code",
      "source": [
        "# To identify unique values of categorical values\n",
        "users_df[\"role\"].unique()"
      ],
      "metadata": {
        "colab": {
          "base_uri": "https://localhost:8080/",
          "height": 0
        },
        "id": "pYG9KgZl7j4w",
        "outputId": "e2cde10b-29c7-4d7f-e6cd-45f4fe7b58d4"
      },
      "execution_count": 92,
      "outputs": [
        {
          "output_type": "execute_result",
          "data": {
            "text/plain": [
              "array(['consumer', 'fetch-staff'], dtype=object)"
            ]
          },
          "metadata": {},
          "execution_count": 92
        }
      ]
    },
    {
      "cell_type": "code",
      "source": [
        "users_df[\"signUpSource\"].unique()"
      ],
      "metadata": {
        "colab": {
          "base_uri": "https://localhost:8080/",
          "height": 0
        },
        "id": "_NuDSrrzKy40",
        "outputId": "895ebfc2-5454-4c46-ab1c-c5b4d01779e0"
      },
      "execution_count": 93,
      "outputs": [
        {
          "output_type": "execute_result",
          "data": {
            "text/plain": [
              "array(['Email', 'Google', nan], dtype=object)"
            ]
          },
          "metadata": {},
          "execution_count": 93
        }
      ]
    },
    {
      "cell_type": "code",
      "source": [
        "users_df[\"state\"].unique()"
      ],
      "metadata": {
        "colab": {
          "base_uri": "https://localhost:8080/",
          "height": 0
        },
        "id": "k0lvGwwsK74g",
        "outputId": "55588d8b-6eab-43b9-d686-17a3d932bcec"
      },
      "execution_count": 94,
      "outputs": [
        {
          "output_type": "execute_result",
          "data": {
            "text/plain": [
              "array(['WI', 'KY', 'AL', 'CO', 'IL', nan, 'OH', 'SC', 'NH'], dtype=object)"
            ]
          },
          "metadata": {},
          "execution_count": 94
        }
      ]
    },
    {
      "cell_type": "code",
      "source": [
        "freq_source=100*(users_df['signUpSource'].value_counts()/len(users_df))\n",
        "print(freq_source.map('{:,.2f}%'.format))"
      ],
      "metadata": {
        "colab": {
          "base_uri": "https://localhost:8080/",
          "height": 0
        },
        "id": "NkdwlF9FMjr3",
        "outputId": "93ea5cde-b1ae-4bc8-cc36-ead0e03963b4"
      },
      "execution_count": 95,
      "outputs": [
        {
          "output_type": "stream",
          "name": "stdout",
          "text": [
            "signUpSource\n",
            "Email     96.23%\n",
            "Google     1.42%\n",
            "Name: count, dtype: object\n"
          ]
        }
      ]
    },
    {
      "cell_type": "code",
      "source": [
        "freq_state=100*(users_df['state'].value_counts()/len(users_df))\n",
        "print(freq_state.map('{:,.2f}%'.format))"
      ],
      "metadata": {
        "colab": {
          "base_uri": "https://localhost:8080/",
          "height": 0
        },
        "id": "st_cN3kfp6dp",
        "outputId": "e910d06d-de57-432f-d549-8f6d511848ca"
      },
      "execution_count": 96,
      "outputs": [
        {
          "output_type": "stream",
          "name": "stdout",
          "text": [
            "state\n",
            "WI    91.04%\n",
            "AL     2.36%\n",
            "IL     1.42%\n",
            "KY     0.47%\n",
            "CO     0.47%\n",
            "OH     0.47%\n",
            "SC     0.47%\n",
            "NH     0.47%\n",
            "Name: count, dtype: object\n"
          ]
        }
      ]
    },
    {
      "cell_type": "code",
      "source": [
        "# Calculate the percentage of active users\n",
        "total_users = len(users_df)\n",
        "active_users = users_df['active'].sum()  # Since 'active' is a boolean, summing will give the count of True values\n",
        "active_users_percentage = (active_users / total_users) * 100\n",
        "\n",
        "print(f\"Percentage of active users: {active_users_percentage:.2f}%\")"
      ],
      "metadata": {
        "colab": {
          "base_uri": "https://localhost:8080/",
          "height": 0
        },
        "id": "STA00xvjwZCK",
        "outputId": "d2bdc8ee-097b-4c1f-f7ea-660e7396ef60"
      },
      "execution_count": 97,
      "outputs": [
        {
          "output_type": "stream",
          "name": "stdout",
          "text": [
            "Percentage of active users: 99.53%\n"
          ]
        }
      ]
    },
    {
      "cell_type": "code",
      "source": [
        "# Check for createdDate after lastLogin\n",
        "invalid_date_order = users_df[users_df['createdDate'] > users_df['lastLogin']]\n",
        "print(\"Users with createdDate after lastLogin:\")\n",
        "print(invalid_date_order)"
      ],
      "metadata": {
        "colab": {
          "base_uri": "https://localhost:8080/",
          "height": 0
        },
        "id": "SFJwCX1RwD8F",
        "outputId": "5f1afaf4-b0dc-4426-cc9a-61946990c278"
      },
      "execution_count": 98,
      "outputs": [
        {
          "output_type": "stream",
          "name": "stdout",
          "text": [
            "Users with createdDate after lastLogin:\n",
            "Empty DataFrame\n",
            "Columns: [_id, active, createdDate, lastLogin, role, signUpSource, state]\n",
            "Index: []\n"
          ]
        }
      ]
    },
    {
      "cell_type": "markdown",
      "source": [
        "#Receipts and Items tables"
      ],
      "metadata": {
        "id": "m2vrHcoXLCBw"
      }
    },
    {
      "cell_type": "code",
      "source": [
        "# Create a connection to the SQLite database\n",
        "conn = sqlite3.connect('fetch.db')\n",
        "\n",
        "# Create a cursor object\n",
        "cursor = conn.cursor()\n",
        "\n",
        "# Drop the 'receipts' table if it already exists\n",
        "cursor.execute(\"DROP TABLE IF EXISTS receipts\")\n",
        "\n",
        "conn.commit()\n",
        "\n",
        "# Create 'receipts' table\n",
        "create_table_query = '''\n",
        "CREATE TABLE receipts (\n",
        "    receipt_id TEXT PRIMARY KEY,\n",
        "    bonusPointsEarned INTEGER,\n",
        "    bonusPointsEarnedReason TEXT,\n",
        "    createDate TEXT,\n",
        "    dateScanned TEXT,\n",
        "    finishedDate TEXT,\n",
        "    modifyDate TEXT,\n",
        "    pointsAwardedDate TEXT,\n",
        "    pointsEarned REAL,\n",
        "    purchaseDate TEXT,\n",
        "    purchasedItemCount INTEGER,\n",
        "    rewardsReceiptStatus TEXT,\n",
        "    totalSpent REAL,\n",
        "    userId TEXT\n",
        ")\n",
        "'''\n",
        "cursor.execute(create_table_query)\n",
        "\n",
        "conn.commit()\n",
        "\n",
        "# Drop the 'items' table if it already exists\n",
        "cursor.execute(\"DROP TABLE IF EXISTS items\")\n",
        "\n",
        "conn.commit()\n",
        "\n",
        "# Create 'items' table\n",
        "create_table_query = '''\n",
        "CREATE TABLE items (\n",
        "    item_id INTEGER PRIMARY KEY AUTOINCREMENT,\n",
        "    receipt_id TEXT ,\n",
        "    barcode TEXT,\n",
        "    description TEXT,\n",
        "    finalPrice DECIMAL(10, 2),\n",
        "    itemPrice DECIMAL(10, 2),\n",
        "    needsFetchReview BOOLEAN,\n",
        "    needsFetchReviewReason TEXT,\n",
        "    partnerItemId TEXT,\n",
        "    pointsNotAwardedReason TEXT,\n",
        "    pointsPayerId TEXT,\n",
        "    preventTargetGapPoints BOOLEAN,\n",
        "    quantityPurchased INT,\n",
        "    rewardsGroup TEXT,\n",
        "    rewardsProductPartnerId TEXT,\n",
        "    userFlaggedBarcode TEXT,\n",
        "    userFlaggedDescription TEXT,\n",
        "    userFlaggedNewItem BOOLEAN,\n",
        "    userFlaggedPrice DECIMAL(10, 2),\n",
        "    userFlaggedQuantity INT,\n",
        "    competitiveProduct BOOLEAN,\n",
        "    competitiveRewardsGroup TEXT,\n",
        "    competitiveReceiptItemText TEXT,\n",
        "    originalReceiptItemText TEXT,\n",
        "    originalMetaBriteBarcode TEXT,\n",
        "    originalMetaBriteDescription TEXT,\n",
        "    originalMetaBriteQuantityPurchased INT,\n",
        "    originalMetaBriteItemPrice DECIMAL(10, 2),\n",
        "    FOREIGN KEY (receipt_id) REFERENCES receipts(id),\n",
        "    FOREIGN KEY (barcode) REFERENCES brands(barcode)\n",
        ")'''\n",
        "cursor.execute(create_table_query)\n",
        "\n",
        "# Commit the transaction\n",
        "conn.commit()"
      ],
      "metadata": {
        "id": "eDAT46YkS1fQ"
      },
      "execution_count": 99,
      "outputs": []
    },
    {
      "cell_type": "code",
      "source": [
        "# Read the JSON file\n",
        "data_receipts = []\n",
        "with open('receipts.json', 'r') as file:\n",
        "    for line in file:\n",
        "        data_receipts.append(json.loads(line))\n",
        "\n",
        "# Normalize JSON data to DataFrame\n",
        "df_receipts = pd.json_normalize(data_receipts)\n",
        "df_receipts.head()\n",
        "\n",
        "#Convert JSON data to a pandas DataFrame and handle nested fields\n",
        "# Flatten the top-level fields and handle nested fields separately\n",
        "for record in data_receipts:\n",
        "    receipt_id = record.get('_id', {}).get('$oid')\n",
        "    bonusPointsEarned = record.get('bonusPointsEarned')\n",
        "    bonusPointsEarnedReason = record.get('bonusPointsEarnedReason')\n",
        "    createDate = record.get('createDate', {}).get('$date')\n",
        "    dateScanned = record.get('dateScanned', {}).get('$date')\n",
        "    finishedDate = record.get('finishedDate', {}).get('$date')\n",
        "    modifyDate = record.get('modifyDate', {}).get('$date')\n",
        "    pointsAwardedDate = record.get('pointsAwardedDate', {}).get('$date')\n",
        "    pointsEarned = record.get('pointsEarned')\n",
        "    purchaseDate = record.get('purchaseDate', {}).get('$date')\n",
        "    purchasedItemCount = record.get('purchasedItemCount')\n",
        "    rewardsReceiptStatus = record.get('rewardsReceiptStatus')\n",
        "    totalSpent = record.get('totalSpent')\n",
        "    userId = record.get('userId')\n",
        "\n",
        "    cursor.execute(\"\"\"\n",
        "        INSERT INTO receipts (receipt_id, bonusPointsEarned, bonusPointsEarnedReason, createDate, dateScanned, finishedDate,\n",
        "                                  modifyDate, pointsAwardedDate, pointsEarned, purchaseDate, purchasedItemCount,\n",
        "                                  rewardsReceiptStatus, totalSpent, userId)\n",
        "        VALUES (?, ?, ?, ?, ?, ?, ?, ?, ?, ?, ?, ?, ?, ?)\n",
        "    \"\"\", (receipt_id, bonusPointsEarned, bonusPointsEarnedReason, createDate, dateScanned, finishedDate, modifyDate,\n",
        "          pointsAwardedDate, pointsEarned, purchaseDate, purchasedItemCount, rewardsReceiptStatus, totalSpent, userId))\n",
        "\n",
        "    conn.commit()\n",
        "\n",
        "# # Write the SELECT query with a WHERE clause\n",
        "# query = f\"SELECT * FROM receipts LIMIT 10\"\n",
        "# result_df = pd.read_sql(query, conn)\n",
        "# print(result_df)\n",
        "\n",
        "    # Insert items into 'items'\n",
        "    items = record.get('rewardsReceiptItemList', [])\n",
        "    for item in items:\n",
        "            receipt_id = record.get('_id', {}).get('$oid')\n",
        "            barcode = item.get('barcode')\n",
        "            description = item.get('description')\n",
        "            finalPrice = item.get('finalPrice')\n",
        "            itemPrice = item.get('itemPrice')\n",
        "            needsFetchReview = item.get('needsFetchReview')\n",
        "            needsFetchReviewReason = item.get('needsFetchReviewReason')\n",
        "            partnerItemId = item.get('partnerItemId')\n",
        "            pointsNotAwardedReason = item.get('pointsNotAwardedReason')\n",
        "            pointsPayerId = item.get('pointsPayerId')\n",
        "            preventTargetGapPoints = item.get('preventTargetGapPoints')\n",
        "            quantityPurchased = item.get('quantityPurchased')\n",
        "            rewardsGroup = item.get('rewardsGroup')\n",
        "            rewardsProductPartnerId = item.get('rewardsProductPartnerId')\n",
        "            userFlaggedBarcode = item.get('userFlaggedBarcode')\n",
        "            userFlaggedDescription = item.get('userFlaggedDescription')\n",
        "            userFlaggedNewItem = item.get('userFlaggedNewItem')\n",
        "            userFlaggedPrice = item.get('userFlaggedPrice')\n",
        "            userFlaggedQuantity = item.get('userFlaggedQuantity')\n",
        "            competitiveProduct = item.get('competitiveProduct')\n",
        "            competitiveRewardsGroup = item.get('competitiveRewardsGroup')\n",
        "            competitiveReceiptItemText = item.get('competitiveReceiptItemText')\n",
        "            originalReceiptItemText = item.get('originalReceiptItemText')\n",
        "            originalMetaBriteBarcode = item.get('originalMetaBriteBarcode')\n",
        "            originalMetaBriteDescription = item.get('originalMetaBriteDescription')\n",
        "            originalMetaBriteQuantityPurchased = item.get('originalMetaBriteQuantityPurchased')\n",
        "            originalMetaBriteItemPrice = item.get('originalMetaBriteItemPrice')\n",
        "\n",
        "\n",
        "            cursor.execute(\"\"\"\n",
        "                INSERT INTO items (receipt_id, barcode, description, finalPrice, itemPrice, needsFetchReview,\n",
        "                                   needsFetchReviewReason, partnerItemId,\n",
        "                                   pointsNotAwardedReason, pointsPayerId, preventTargetGapPoints, quantityPurchased,\n",
        "                                   rewardsGroup, rewardsProductPartnerId, userFlaggedBarcode, userFlaggedDescription,\n",
        "                                   userFlaggedNewItem, userFlaggedPrice, userFlaggedQuantity, competitiveProduct,\n",
        "                                   competitiveRewardsGroup, competitiveReceiptItemText, originalReceiptItemText, originalMetaBriteBarcode,\n",
        "                                   originalMetaBriteDescription, originalMetaBriteQuantityPurchased,\n",
        "                                   originalMetaBriteItemPrice)\n",
        "                VALUES (?, ?, ?, ?, ?, ?, ?, ?, ?, ?, ?, ?, ?, ?, ?, ?, ?, ?, ?, ?, ?, ?, ?, ?, ?, ?, ?)\n",
        "            \"\"\", (receipt_id, barcode, description, finalPrice, itemPrice, needsFetchReview, needsFetchReviewReason, partnerItemId,\n",
        "                  pointsNotAwardedReason, pointsPayerId, preventTargetGapPoints, quantityPurchased, rewardsGroup,\n",
        "                  rewardsProductPartnerId, userFlaggedBarcode, userFlaggedDescription, userFlaggedNewItem,\n",
        "                  userFlaggedPrice, userFlaggedQuantity, competitiveProduct, competitiveRewardsGroup,\n",
        "                  competitiveReceiptItemText, originalReceiptItemText, originalMetaBriteBarcode, originalMetaBriteDescription,\n",
        "                  originalMetaBriteQuantityPurchased, originalMetaBriteItemPrice))\n",
        "\n",
        "            conn.commit()\n",
        "\n",
        "query = f\"SELECT * FROM receipts LIMIT 10\"\n",
        "result_df = pd.read_sql(query, conn)\n",
        "print(result_df)"
      ],
      "metadata": {
        "id": "SVC_eIf1toLa",
        "colab": {
          "base_uri": "https://localhost:8080/",
          "height": 0
        },
        "collapsed": true,
        "outputId": "e5c1931e-9c32-44ac-809d-432c7aa7078f"
      },
      "execution_count": 100,
      "outputs": [
        {
          "output_type": "stream",
          "name": "stdout",
          "text": [
            "                 receipt_id  bonusPointsEarned  \\\n",
            "0  5ff1e1eb0a720f0523000575                500   \n",
            "1  5ff1e1bb0a720f052300056b                150   \n",
            "2  5ff1e1f10a720f052300057a                  5   \n",
            "3  5ff1e1ee0a7214ada100056f                  5   \n",
            "4  5ff1e1d20a7214ada1000561                  5   \n",
            "5  5ff1e1e40a7214ada1000566                750   \n",
            "6  5ff1e1cd0a720f052300056f                  5   \n",
            "7  5ff1e1a40a720f0523000569                500   \n",
            "8  5ff1e1ed0a7214ada100056e                  5   \n",
            "9  5ff1e1eb0a7214ada100056b                250   \n",
            "\n",
            "                             bonusPointsEarnedReason     createDate  \\\n",
            "0  Receipt number 2 completed, bonus point schedu...  1609687531000   \n",
            "1  Receipt number 5 completed, bonus point schedu...  1609687483000   \n",
            "2                         All-receipts receipt bonus  1609687537000   \n",
            "3                         All-receipts receipt bonus  1609687534000   \n",
            "4                         All-receipts receipt bonus  1609687506000   \n",
            "5  Receipt number 1 completed, bonus point schedu...  1609687524000   \n",
            "6                         All-receipts receipt bonus  1609687501000   \n",
            "7  Receipt number 2 completed, bonus point schedu...  1609687460000   \n",
            "8                         All-receipts receipt bonus  1609687533000   \n",
            "9  Receipt number 3 completed, bonus point schedu...  1609687531000   \n",
            "\n",
            "     dateScanned   finishedDate     modifyDate pointsAwardedDate  \\\n",
            "0  1609687531000  1609687531000  1609687536000     1609687531000   \n",
            "1  1609687483000  1609687483000  1609687488000     1609687483000   \n",
            "2  1609687537000           None  1609687542000              None   \n",
            "3  1609687534000  1609687534000  1609687539000     1609687534000   \n",
            "4  1609687506000  1609687511000  1609687511000     1609687506000   \n",
            "5  1609687524000  1609687525000  1609687530000     1609687525000   \n",
            "6  1609687501000  1609687502000  1609687502000     1609687502000   \n",
            "7  1609687460000  1609687461000  1609687461000     1609687461000   \n",
            "8  1609687533000  1609687534000  1609687538000     1609687534000   \n",
            "9  1609687531000  1609687531000  1609687536000     1609687531000   \n",
            "\n",
            "   pointsEarned   purchaseDate  purchasedItemCount rewardsReceiptStatus  \\\n",
            "0         500.0  1609632000000                   5             FINISHED   \n",
            "1         150.0  1609601083000                   2             FINISHED   \n",
            "2           5.0  1609632000000                   1             REJECTED   \n",
            "3           5.0  1609632000000                   4             FINISHED   \n",
            "4           5.0  1609601106000                   2             FINISHED   \n",
            "5         750.0  1609601124000                   1             FINISHED   \n",
            "6           5.0  1609687501000                   1             FINISHED   \n",
            "7         500.0  1609027200000                   1             FINISHED   \n",
            "8           5.0  1609632000000                   5             FINISHED   \n",
            "9         250.0  1609632000000                   3             FINISHED   \n",
            "\n",
            "   totalSpent                    userId  \n",
            "0       26.00  5ff1e1eacfcf6c399c274ae6  \n",
            "1       11.00  5ff1e194b6a9d73a3a9f1052  \n",
            "2       10.00  5ff1e1f1cfcf6c399c274b0b  \n",
            "3       28.00  5ff1e1eacfcf6c399c274ae6  \n",
            "4        1.00  5ff1e194b6a9d73a3a9f1052  \n",
            "5        3.25  5ff1e1e4cfcf6c399c274ac3  \n",
            "6        2.23  5ff1e194b6a9d73a3a9f1052  \n",
            "7       10.00  5ff1e194b6a9d73a3a9f1052  \n",
            "8       20.00  5ff1e1eacfcf6c399c274ae6  \n",
            "9       20.00  5ff1e1eacfcf6c399c274ae6  \n"
          ]
        }
      ]
    },
    {
      "cell_type": "code",
      "source": [
        "query = f\"SELECT * FROM receipts LIMIT 10\"\n",
        "result_df = pd.read_sql(query, conn)\n",
        "print(result_df)\n",
        "\n",
        "# Write the SELECT query with a WHERE clause\n",
        "query = f\"SELECT * FROM items LIMIT 10\"\n",
        "result_df = pd.read_sql(query, conn)\n",
        "print(result_df)\n",
        "\n",
        "conn.close()"
      ],
      "metadata": {
        "colab": {
          "base_uri": "https://localhost:8080/",
          "height": 0
        },
        "id": "1iPt5ujTokam",
        "outputId": "856a939b-49b6-4c05-b381-4791fba7a92a"
      },
      "execution_count": 101,
      "outputs": [
        {
          "output_type": "stream",
          "name": "stdout",
          "text": [
            "                 receipt_id  bonusPointsEarned  \\\n",
            "0  5ff1e1eb0a720f0523000575                500   \n",
            "1  5ff1e1bb0a720f052300056b                150   \n",
            "2  5ff1e1f10a720f052300057a                  5   \n",
            "3  5ff1e1ee0a7214ada100056f                  5   \n",
            "4  5ff1e1d20a7214ada1000561                  5   \n",
            "5  5ff1e1e40a7214ada1000566                750   \n",
            "6  5ff1e1cd0a720f052300056f                  5   \n",
            "7  5ff1e1a40a720f0523000569                500   \n",
            "8  5ff1e1ed0a7214ada100056e                  5   \n",
            "9  5ff1e1eb0a7214ada100056b                250   \n",
            "\n",
            "                             bonusPointsEarnedReason     createDate  \\\n",
            "0  Receipt number 2 completed, bonus point schedu...  1609687531000   \n",
            "1  Receipt number 5 completed, bonus point schedu...  1609687483000   \n",
            "2                         All-receipts receipt bonus  1609687537000   \n",
            "3                         All-receipts receipt bonus  1609687534000   \n",
            "4                         All-receipts receipt bonus  1609687506000   \n",
            "5  Receipt number 1 completed, bonus point schedu...  1609687524000   \n",
            "6                         All-receipts receipt bonus  1609687501000   \n",
            "7  Receipt number 2 completed, bonus point schedu...  1609687460000   \n",
            "8                         All-receipts receipt bonus  1609687533000   \n",
            "9  Receipt number 3 completed, bonus point schedu...  1609687531000   \n",
            "\n",
            "     dateScanned   finishedDate     modifyDate pointsAwardedDate  \\\n",
            "0  1609687531000  1609687531000  1609687536000     1609687531000   \n",
            "1  1609687483000  1609687483000  1609687488000     1609687483000   \n",
            "2  1609687537000           None  1609687542000              None   \n",
            "3  1609687534000  1609687534000  1609687539000     1609687534000   \n",
            "4  1609687506000  1609687511000  1609687511000     1609687506000   \n",
            "5  1609687524000  1609687525000  1609687530000     1609687525000   \n",
            "6  1609687501000  1609687502000  1609687502000     1609687502000   \n",
            "7  1609687460000  1609687461000  1609687461000     1609687461000   \n",
            "8  1609687533000  1609687534000  1609687538000     1609687534000   \n",
            "9  1609687531000  1609687531000  1609687536000     1609687531000   \n",
            "\n",
            "   pointsEarned   purchaseDate  purchasedItemCount rewardsReceiptStatus  \\\n",
            "0         500.0  1609632000000                   5             FINISHED   \n",
            "1         150.0  1609601083000                   2             FINISHED   \n",
            "2           5.0  1609632000000                   1             REJECTED   \n",
            "3           5.0  1609632000000                   4             FINISHED   \n",
            "4           5.0  1609601106000                   2             FINISHED   \n",
            "5         750.0  1609601124000                   1             FINISHED   \n",
            "6           5.0  1609687501000                   1             FINISHED   \n",
            "7         500.0  1609027200000                   1             FINISHED   \n",
            "8           5.0  1609632000000                   5             FINISHED   \n",
            "9         250.0  1609632000000                   3             FINISHED   \n",
            "\n",
            "   totalSpent                    userId  \n",
            "0       26.00  5ff1e1eacfcf6c399c274ae6  \n",
            "1       11.00  5ff1e194b6a9d73a3a9f1052  \n",
            "2       10.00  5ff1e1f1cfcf6c399c274b0b  \n",
            "3       28.00  5ff1e1eacfcf6c399c274ae6  \n",
            "4        1.00  5ff1e194b6a9d73a3a9f1052  \n",
            "5        3.25  5ff1e1e4cfcf6c399c274ac3  \n",
            "6        2.23  5ff1e194b6a9d73a3a9f1052  \n",
            "7       10.00  5ff1e194b6a9d73a3a9f1052  \n",
            "8       20.00  5ff1e1eacfcf6c399c274ae6  \n",
            "9       20.00  5ff1e1eacfcf6c399c274ae6  \n",
            "   item_id                receipt_id       barcode  \\\n",
            "0        1  5ff1e1eb0a720f0523000575          4011   \n",
            "1        2  5ff1e1bb0a720f052300056b          4011   \n",
            "2        3  5ff1e1bb0a720f052300056b  028400642255   \n",
            "3        4  5ff1e1f10a720f052300057a          None   \n",
            "4        5  5ff1e1ee0a7214ada100056f          4011   \n",
            "5        6  5ff1e1d20a7214ada1000561          4011   \n",
            "6        7  5ff1e1d20a7214ada1000561          1234   \n",
            "7        8  5ff1e1e40a7214ada1000566          4011   \n",
            "8        9  5ff1e1cd0a720f052300056f          None   \n",
            "9       10  5ff1e1a40a720f0523000569  046000832517   \n",
            "\n",
            "                                         description  finalPrice  itemPrice  \\\n",
            "0                                     ITEM NOT FOUND       26.00      26.00   \n",
            "1                                     ITEM NOT FOUND        1.00       1.00   \n",
            "2  DORITOS TORTILLA CHIP SPICY SWEET CHILI REDUCE...       10.00      10.00   \n",
            "3                                               None         NaN        NaN   \n",
            "4                                     ITEM NOT FOUND       28.00      28.00   \n",
            "5                                     ITEM NOT FOUND        1.00       1.00   \n",
            "6                                               None        2.56       2.56   \n",
            "7                                     ITEM NOT FOUND        3.25       3.25   \n",
            "8                                       MSSN TORTLLA        2.23       2.23   \n",
            "9      Old El Paso Mild Chopped Green Chiles, 4.5 Oz       10.00      10.00   \n",
            "\n",
            "   needsFetchReview needsFetchReviewReason partnerItemId  \\\n",
            "0               0.0                   None             1   \n",
            "1               NaN                   None             1   \n",
            "2               1.0           USER_FLAGGED             2   \n",
            "3               0.0                   None             1   \n",
            "4               0.0                   None             1   \n",
            "5               NaN                   None             1   \n",
            "6               1.0           USER_FLAGGED             2   \n",
            "7               0.0                   None             1   \n",
            "8               NaN                   None          1009   \n",
            "9               NaN                   None             0   \n",
            "\n",
            "                pointsNotAwardedReason  ... userFlaggedPrice  \\\n",
            "0                                 None  ...            26.00   \n",
            "1                                 None  ...              NaN   \n",
            "2  Action not allowed for user and CPG  ...            10.00   \n",
            "3                                 None  ...            26.00   \n",
            "4                                 None  ...            28.00   \n",
            "5                                 None  ...              NaN   \n",
            "6                                 None  ...             2.56   \n",
            "7  Action not allowed for user and CPG  ...              NaN   \n",
            "8                                 None  ...              NaN   \n",
            "9  Action not allowed for user and CPG  ...              NaN   \n",
            "\n",
            "   userFlaggedQuantity  competitiveProduct competitiveRewardsGroup  \\\n",
            "0                  5.0                None                    None   \n",
            "1                  NaN                None                    None   \n",
            "2                  1.0                None                    None   \n",
            "3                  3.0                None                    None   \n",
            "4                  4.0                None                    None   \n",
            "5                  NaN                None                    None   \n",
            "6                  3.0                None                    None   \n",
            "7                  NaN                None                    None   \n",
            "8                  NaN                None                    None   \n",
            "9                  NaN                None                    None   \n",
            "\n",
            "  competitiveReceiptItemText originalReceiptItemText originalMetaBriteBarcode  \\\n",
            "0                       None                    None                     None   \n",
            "1                       None                    None                     None   \n",
            "2                       None                    None                     None   \n",
            "3                       None                    None                     None   \n",
            "4                       None                    None                     None   \n",
            "5                       None                    None                     None   \n",
            "6                       None                    None                     None   \n",
            "7                       None                    None             028400642255   \n",
            "8                       None            MSSN TORTLLA                     None   \n",
            "9                       None                    None                     None   \n",
            "\n",
            "                        originalMetaBriteDescription  \\\n",
            "0                                               None   \n",
            "1                                               None   \n",
            "2                                               None   \n",
            "3                                               None   \n",
            "4                                               None   \n",
            "5                                               None   \n",
            "6                                               None   \n",
            "7  DORITOS TORTILLA CHIP SPICY SWEET CHILI REDUCE...   \n",
            "8                                               None   \n",
            "9                                               None   \n",
            "\n",
            "   originalMetaBriteQuantityPurchased  originalMetaBriteItemPrice  \n",
            "0                                None                        None  \n",
            "1                                None                        None  \n",
            "2                                None                        None  \n",
            "3                                None                        None  \n",
            "4                                None                        None  \n",
            "5                                None                        None  \n",
            "6                                None                        None  \n",
            "7                                None                        None  \n",
            "8                                None                        None  \n",
            "9                                None                        None  \n",
            "\n",
            "[10 rows x 28 columns]\n"
          ]
        }
      ]
    },
    {
      "cell_type": "code",
      "source": [
        "# Normalize JSON data to DataFrame\n",
        "df_rc = pd.json_normalize(data_receipts)\n",
        "\n",
        "# Rename a few columns for clarity\n",
        "df_receipts = df_rc.rename(columns={'_id.$oid': 'receipt_id', 'createDate.$date': 'createDate', 'dateScanned.$date': 'dateScanned',\n",
        "                                  'finishedDate.$date' : 'finishedDate', 'modifyDate.$date' : 'modifyDate', 'pointsAwardedDate.$date' : 'pointsAwardedDate',\n",
        "                                  'purchaseDate.$date' : 'purchaseDate'})\n",
        "\n",
        "\n",
        "# Convert datetime fields to a readable format\n",
        "df_receipts['createDate'] = pd.to_datetime(df_receipts['createDate'], unit='ms').dt.strftime('%Y-%m-%d %H:%M:%S')\n",
        "df_receipts['dateScanned'] = pd.to_datetime(df_receipts['dateScanned'], unit='ms').dt.strftime('%Y-%m-%d %H:%M:%S')\n",
        "df_receipts['finishedDate'] = pd.to_datetime(df_receipts['finishedDate'], unit='ms').dt.strftime('%Y-%m-%d %H:%M:%S')\n",
        "df_receipts['modifyDate'] = pd.to_datetime(df_receipts['modifyDate'], unit='ms').dt.strftime('%Y-%m-%d %H:%M:%S')\n",
        "df_receipts['pointsAwardedDate'] = pd.to_datetime(df_receipts['pointsAwardedDate'], unit='ms').dt.strftime('%Y-%m-%d %H:%M:%S')\n",
        "df_receipts['purchaseDate'] = pd.to_datetime(df_receipts['purchaseDate'], unit='ms').dt.strftime('%Y-%m-%d %H:%M:%S')\n",
        "\n",
        "# Extract relevant columns for the 'receipts' table\n",
        "receipts_columns = ['receipt_id', 'bonusPointsEarned', 'bonusPointsEarnedReason','createDate','dateScanned','finishedDate','modifyDate','pointsAwardedDate','pointsEarned','purchaseDate',\n",
        "                    'purchasedItemCount','rewardsReceiptStatus','totalSpent','userId']\n",
        "\n",
        "receipts_df = df_receipts[receipts_columns]\n",
        "\n",
        "# Print the DataFrame to verify\n",
        "receipts_df.head()\n"
      ],
      "metadata": {
        "colab": {
          "base_uri": "https://localhost:8080/",
          "height": 347
        },
        "id": "BvxWt-GLyeqv",
        "outputId": "af3f8fff-3fa0-4c53-f716-084ec82e7853"
      },
      "execution_count": 102,
      "outputs": [
        {
          "output_type": "execute_result",
          "data": {
            "text/plain": [
              "                 receipt_id  bonusPointsEarned  \\\n",
              "0  5ff1e1eb0a720f0523000575              500.0   \n",
              "1  5ff1e1bb0a720f052300056b              150.0   \n",
              "2  5ff1e1f10a720f052300057a                5.0   \n",
              "3  5ff1e1ee0a7214ada100056f                5.0   \n",
              "4  5ff1e1d20a7214ada1000561                5.0   \n",
              "\n",
              "                             bonusPointsEarnedReason           createDate  \\\n",
              "0  Receipt number 2 completed, bonus point schedu...  2021-01-03 15:25:31   \n",
              "1  Receipt number 5 completed, bonus point schedu...  2021-01-03 15:24:43   \n",
              "2                         All-receipts receipt bonus  2021-01-03 15:25:37   \n",
              "3                         All-receipts receipt bonus  2021-01-03 15:25:34   \n",
              "4                         All-receipts receipt bonus  2021-01-03 15:25:06   \n",
              "\n",
              "           dateScanned         finishedDate           modifyDate  \\\n",
              "0  2021-01-03 15:25:31  2021-01-03 15:25:31  2021-01-03 15:25:36   \n",
              "1  2021-01-03 15:24:43  2021-01-03 15:24:43  2021-01-03 15:24:48   \n",
              "2  2021-01-03 15:25:37                  NaN  2021-01-03 15:25:42   \n",
              "3  2021-01-03 15:25:34  2021-01-03 15:25:34  2021-01-03 15:25:39   \n",
              "4  2021-01-03 15:25:06  2021-01-03 15:25:11  2021-01-03 15:25:11   \n",
              "\n",
              "     pointsAwardedDate pointsEarned         purchaseDate  purchasedItemCount  \\\n",
              "0  2021-01-03 15:25:31        500.0  2021-01-03 00:00:00                 5.0   \n",
              "1  2021-01-03 15:24:43        150.0  2021-01-02 15:24:43                 2.0   \n",
              "2                  NaN            5  2021-01-03 00:00:00                 1.0   \n",
              "3  2021-01-03 15:25:34          5.0  2021-01-03 00:00:00                 4.0   \n",
              "4  2021-01-03 15:25:06          5.0  2021-01-02 15:25:06                 2.0   \n",
              "\n",
              "  rewardsReceiptStatus totalSpent                    userId  \n",
              "0             FINISHED      26.00  5ff1e1eacfcf6c399c274ae6  \n",
              "1             FINISHED      11.00  5ff1e194b6a9d73a3a9f1052  \n",
              "2             REJECTED      10.00  5ff1e1f1cfcf6c399c274b0b  \n",
              "3             FINISHED      28.00  5ff1e1eacfcf6c399c274ae6  \n",
              "4             FINISHED       1.00  5ff1e194b6a9d73a3a9f1052  "
            ],
            "text/html": [
              "\n",
              "  <div id=\"df-c554cf9d-8b5f-4197-bd92-d220158aada4\" class=\"colab-df-container\">\n",
              "    <div>\n",
              "<style scoped>\n",
              "    .dataframe tbody tr th:only-of-type {\n",
              "        vertical-align: middle;\n",
              "    }\n",
              "\n",
              "    .dataframe tbody tr th {\n",
              "        vertical-align: top;\n",
              "    }\n",
              "\n",
              "    .dataframe thead th {\n",
              "        text-align: right;\n",
              "    }\n",
              "</style>\n",
              "<table border=\"1\" class=\"dataframe\">\n",
              "  <thead>\n",
              "    <tr style=\"text-align: right;\">\n",
              "      <th></th>\n",
              "      <th>receipt_id</th>\n",
              "      <th>bonusPointsEarned</th>\n",
              "      <th>bonusPointsEarnedReason</th>\n",
              "      <th>createDate</th>\n",
              "      <th>dateScanned</th>\n",
              "      <th>finishedDate</th>\n",
              "      <th>modifyDate</th>\n",
              "      <th>pointsAwardedDate</th>\n",
              "      <th>pointsEarned</th>\n",
              "      <th>purchaseDate</th>\n",
              "      <th>purchasedItemCount</th>\n",
              "      <th>rewardsReceiptStatus</th>\n",
              "      <th>totalSpent</th>\n",
              "      <th>userId</th>\n",
              "    </tr>\n",
              "  </thead>\n",
              "  <tbody>\n",
              "    <tr>\n",
              "      <th>0</th>\n",
              "      <td>5ff1e1eb0a720f0523000575</td>\n",
              "      <td>500.0</td>\n",
              "      <td>Receipt number 2 completed, bonus point schedu...</td>\n",
              "      <td>2021-01-03 15:25:31</td>\n",
              "      <td>2021-01-03 15:25:31</td>\n",
              "      <td>2021-01-03 15:25:31</td>\n",
              "      <td>2021-01-03 15:25:36</td>\n",
              "      <td>2021-01-03 15:25:31</td>\n",
              "      <td>500.0</td>\n",
              "      <td>2021-01-03 00:00:00</td>\n",
              "      <td>5.0</td>\n",
              "      <td>FINISHED</td>\n",
              "      <td>26.00</td>\n",
              "      <td>5ff1e1eacfcf6c399c274ae6</td>\n",
              "    </tr>\n",
              "    <tr>\n",
              "      <th>1</th>\n",
              "      <td>5ff1e1bb0a720f052300056b</td>\n",
              "      <td>150.0</td>\n",
              "      <td>Receipt number 5 completed, bonus point schedu...</td>\n",
              "      <td>2021-01-03 15:24:43</td>\n",
              "      <td>2021-01-03 15:24:43</td>\n",
              "      <td>2021-01-03 15:24:43</td>\n",
              "      <td>2021-01-03 15:24:48</td>\n",
              "      <td>2021-01-03 15:24:43</td>\n",
              "      <td>150.0</td>\n",
              "      <td>2021-01-02 15:24:43</td>\n",
              "      <td>2.0</td>\n",
              "      <td>FINISHED</td>\n",
              "      <td>11.00</td>\n",
              "      <td>5ff1e194b6a9d73a3a9f1052</td>\n",
              "    </tr>\n",
              "    <tr>\n",
              "      <th>2</th>\n",
              "      <td>5ff1e1f10a720f052300057a</td>\n",
              "      <td>5.0</td>\n",
              "      <td>All-receipts receipt bonus</td>\n",
              "      <td>2021-01-03 15:25:37</td>\n",
              "      <td>2021-01-03 15:25:37</td>\n",
              "      <td>NaN</td>\n",
              "      <td>2021-01-03 15:25:42</td>\n",
              "      <td>NaN</td>\n",
              "      <td>5</td>\n",
              "      <td>2021-01-03 00:00:00</td>\n",
              "      <td>1.0</td>\n",
              "      <td>REJECTED</td>\n",
              "      <td>10.00</td>\n",
              "      <td>5ff1e1f1cfcf6c399c274b0b</td>\n",
              "    </tr>\n",
              "    <tr>\n",
              "      <th>3</th>\n",
              "      <td>5ff1e1ee0a7214ada100056f</td>\n",
              "      <td>5.0</td>\n",
              "      <td>All-receipts receipt bonus</td>\n",
              "      <td>2021-01-03 15:25:34</td>\n",
              "      <td>2021-01-03 15:25:34</td>\n",
              "      <td>2021-01-03 15:25:34</td>\n",
              "      <td>2021-01-03 15:25:39</td>\n",
              "      <td>2021-01-03 15:25:34</td>\n",
              "      <td>5.0</td>\n",
              "      <td>2021-01-03 00:00:00</td>\n",
              "      <td>4.0</td>\n",
              "      <td>FINISHED</td>\n",
              "      <td>28.00</td>\n",
              "      <td>5ff1e1eacfcf6c399c274ae6</td>\n",
              "    </tr>\n",
              "    <tr>\n",
              "      <th>4</th>\n",
              "      <td>5ff1e1d20a7214ada1000561</td>\n",
              "      <td>5.0</td>\n",
              "      <td>All-receipts receipt bonus</td>\n",
              "      <td>2021-01-03 15:25:06</td>\n",
              "      <td>2021-01-03 15:25:06</td>\n",
              "      <td>2021-01-03 15:25:11</td>\n",
              "      <td>2021-01-03 15:25:11</td>\n",
              "      <td>2021-01-03 15:25:06</td>\n",
              "      <td>5.0</td>\n",
              "      <td>2021-01-02 15:25:06</td>\n",
              "      <td>2.0</td>\n",
              "      <td>FINISHED</td>\n",
              "      <td>1.00</td>\n",
              "      <td>5ff1e194b6a9d73a3a9f1052</td>\n",
              "    </tr>\n",
              "  </tbody>\n",
              "</table>\n",
              "</div>\n",
              "    <div class=\"colab-df-buttons\">\n",
              "\n",
              "  <div class=\"colab-df-container\">\n",
              "    <button class=\"colab-df-convert\" onclick=\"convertToInteractive('df-c554cf9d-8b5f-4197-bd92-d220158aada4')\"\n",
              "            title=\"Convert this dataframe to an interactive table.\"\n",
              "            style=\"display:none;\">\n",
              "\n",
              "  <svg xmlns=\"http://www.w3.org/2000/svg\" height=\"24px\" viewBox=\"0 -960 960 960\">\n",
              "    <path d=\"M120-120v-720h720v720H120Zm60-500h600v-160H180v160Zm220 220h160v-160H400v160Zm0 220h160v-160H400v160ZM180-400h160v-160H180v160Zm440 0h160v-160H620v160ZM180-180h160v-160H180v160Zm440 0h160v-160H620v160Z\"/>\n",
              "  </svg>\n",
              "    </button>\n",
              "\n",
              "  <style>\n",
              "    .colab-df-container {\n",
              "      display:flex;\n",
              "      gap: 12px;\n",
              "    }\n",
              "\n",
              "    .colab-df-convert {\n",
              "      background-color: #E8F0FE;\n",
              "      border: none;\n",
              "      border-radius: 50%;\n",
              "      cursor: pointer;\n",
              "      display: none;\n",
              "      fill: #1967D2;\n",
              "      height: 32px;\n",
              "      padding: 0 0 0 0;\n",
              "      width: 32px;\n",
              "    }\n",
              "\n",
              "    .colab-df-convert:hover {\n",
              "      background-color: #E2EBFA;\n",
              "      box-shadow: 0px 1px 2px rgba(60, 64, 67, 0.3), 0px 1px 3px 1px rgba(60, 64, 67, 0.15);\n",
              "      fill: #174EA6;\n",
              "    }\n",
              "\n",
              "    .colab-df-buttons div {\n",
              "      margin-bottom: 4px;\n",
              "    }\n",
              "\n",
              "    [theme=dark] .colab-df-convert {\n",
              "      background-color: #3B4455;\n",
              "      fill: #D2E3FC;\n",
              "    }\n",
              "\n",
              "    [theme=dark] .colab-df-convert:hover {\n",
              "      background-color: #434B5C;\n",
              "      box-shadow: 0px 1px 3px 1px rgba(0, 0, 0, 0.15);\n",
              "      filter: drop-shadow(0px 1px 2px rgba(0, 0, 0, 0.3));\n",
              "      fill: #FFFFFF;\n",
              "    }\n",
              "  </style>\n",
              "\n",
              "    <script>\n",
              "      const buttonEl =\n",
              "        document.querySelector('#df-c554cf9d-8b5f-4197-bd92-d220158aada4 button.colab-df-convert');\n",
              "      buttonEl.style.display =\n",
              "        google.colab.kernel.accessAllowed ? 'block' : 'none';\n",
              "\n",
              "      async function convertToInteractive(key) {\n",
              "        const element = document.querySelector('#df-c554cf9d-8b5f-4197-bd92-d220158aada4');\n",
              "        const dataTable =\n",
              "          await google.colab.kernel.invokeFunction('convertToInteractive',\n",
              "                                                    [key], {});\n",
              "        if (!dataTable) return;\n",
              "\n",
              "        const docLinkHtml = 'Like what you see? Visit the ' +\n",
              "          '<a target=\"_blank\" href=https://colab.research.google.com/notebooks/data_table.ipynb>data table notebook</a>'\n",
              "          + ' to learn more about interactive tables.';\n",
              "        element.innerHTML = '';\n",
              "        dataTable['output_type'] = 'display_data';\n",
              "        await google.colab.output.renderOutput(dataTable, element);\n",
              "        const docLink = document.createElement('div');\n",
              "        docLink.innerHTML = docLinkHtml;\n",
              "        element.appendChild(docLink);\n",
              "      }\n",
              "    </script>\n",
              "  </div>\n",
              "\n",
              "\n",
              "<div id=\"df-ec040b58-7d2a-43fd-8f57-ba8ece734029\">\n",
              "  <button class=\"colab-df-quickchart\" onclick=\"quickchart('df-ec040b58-7d2a-43fd-8f57-ba8ece734029')\"\n",
              "            title=\"Suggest charts\"\n",
              "            style=\"display:none;\">\n",
              "\n",
              "<svg xmlns=\"http://www.w3.org/2000/svg\" height=\"24px\"viewBox=\"0 0 24 24\"\n",
              "     width=\"24px\">\n",
              "    <g>\n",
              "        <path d=\"M19 3H5c-1.1 0-2 .9-2 2v14c0 1.1.9 2 2 2h14c1.1 0 2-.9 2-2V5c0-1.1-.9-2-2-2zM9 17H7v-7h2v7zm4 0h-2V7h2v10zm4 0h-2v-4h2v4z\"/>\n",
              "    </g>\n",
              "</svg>\n",
              "  </button>\n",
              "\n",
              "<style>\n",
              "  .colab-df-quickchart {\n",
              "      --bg-color: #E8F0FE;\n",
              "      --fill-color: #1967D2;\n",
              "      --hover-bg-color: #E2EBFA;\n",
              "      --hover-fill-color: #174EA6;\n",
              "      --disabled-fill-color: #AAA;\n",
              "      --disabled-bg-color: #DDD;\n",
              "  }\n",
              "\n",
              "  [theme=dark] .colab-df-quickchart {\n",
              "      --bg-color: #3B4455;\n",
              "      --fill-color: #D2E3FC;\n",
              "      --hover-bg-color: #434B5C;\n",
              "      --hover-fill-color: #FFFFFF;\n",
              "      --disabled-bg-color: #3B4455;\n",
              "      --disabled-fill-color: #666;\n",
              "  }\n",
              "\n",
              "  .colab-df-quickchart {\n",
              "    background-color: var(--bg-color);\n",
              "    border: none;\n",
              "    border-radius: 50%;\n",
              "    cursor: pointer;\n",
              "    display: none;\n",
              "    fill: var(--fill-color);\n",
              "    height: 32px;\n",
              "    padding: 0;\n",
              "    width: 32px;\n",
              "  }\n",
              "\n",
              "  .colab-df-quickchart:hover {\n",
              "    background-color: var(--hover-bg-color);\n",
              "    box-shadow: 0 1px 2px rgba(60, 64, 67, 0.3), 0 1px 3px 1px rgba(60, 64, 67, 0.15);\n",
              "    fill: var(--button-hover-fill-color);\n",
              "  }\n",
              "\n",
              "  .colab-df-quickchart-complete:disabled,\n",
              "  .colab-df-quickchart-complete:disabled:hover {\n",
              "    background-color: var(--disabled-bg-color);\n",
              "    fill: var(--disabled-fill-color);\n",
              "    box-shadow: none;\n",
              "  }\n",
              "\n",
              "  .colab-df-spinner {\n",
              "    border: 2px solid var(--fill-color);\n",
              "    border-color: transparent;\n",
              "    border-bottom-color: var(--fill-color);\n",
              "    animation:\n",
              "      spin 1s steps(1) infinite;\n",
              "  }\n",
              "\n",
              "  @keyframes spin {\n",
              "    0% {\n",
              "      border-color: transparent;\n",
              "      border-bottom-color: var(--fill-color);\n",
              "      border-left-color: var(--fill-color);\n",
              "    }\n",
              "    20% {\n",
              "      border-color: transparent;\n",
              "      border-left-color: var(--fill-color);\n",
              "      border-top-color: var(--fill-color);\n",
              "    }\n",
              "    30% {\n",
              "      border-color: transparent;\n",
              "      border-left-color: var(--fill-color);\n",
              "      border-top-color: var(--fill-color);\n",
              "      border-right-color: var(--fill-color);\n",
              "    }\n",
              "    40% {\n",
              "      border-color: transparent;\n",
              "      border-right-color: var(--fill-color);\n",
              "      border-top-color: var(--fill-color);\n",
              "    }\n",
              "    60% {\n",
              "      border-color: transparent;\n",
              "      border-right-color: var(--fill-color);\n",
              "    }\n",
              "    80% {\n",
              "      border-color: transparent;\n",
              "      border-right-color: var(--fill-color);\n",
              "      border-bottom-color: var(--fill-color);\n",
              "    }\n",
              "    90% {\n",
              "      border-color: transparent;\n",
              "      border-bottom-color: var(--fill-color);\n",
              "    }\n",
              "  }\n",
              "</style>\n",
              "\n",
              "  <script>\n",
              "    async function quickchart(key) {\n",
              "      const quickchartButtonEl =\n",
              "        document.querySelector('#' + key + ' button');\n",
              "      quickchartButtonEl.disabled = true;  // To prevent multiple clicks.\n",
              "      quickchartButtonEl.classList.add('colab-df-spinner');\n",
              "      try {\n",
              "        const charts = await google.colab.kernel.invokeFunction(\n",
              "            'suggestCharts', [key], {});\n",
              "      } catch (error) {\n",
              "        console.error('Error during call to suggestCharts:', error);\n",
              "      }\n",
              "      quickchartButtonEl.classList.remove('colab-df-spinner');\n",
              "      quickchartButtonEl.classList.add('colab-df-quickchart-complete');\n",
              "    }\n",
              "    (() => {\n",
              "      let quickchartButtonEl =\n",
              "        document.querySelector('#df-ec040b58-7d2a-43fd-8f57-ba8ece734029 button');\n",
              "      quickchartButtonEl.style.display =\n",
              "        google.colab.kernel.accessAllowed ? 'block' : 'none';\n",
              "    })();\n",
              "  </script>\n",
              "</div>\n",
              "\n",
              "    </div>\n",
              "  </div>\n"
            ],
            "application/vnd.google.colaboratory.intrinsic+json": {
              "type": "dataframe",
              "variable_name": "receipts_df",
              "summary": "{\n  \"name\": \"receipts_df\",\n  \"rows\": 1119,\n  \"fields\": [\n    {\n      \"column\": \"receipt_id\",\n      \"properties\": {\n        \"dtype\": \"string\",\n        \"num_unique_values\": 1119,\n        \"samples\": [\n          \"5fff4ca00a7214ad4c000029\",\n          \"5ff5d1dd0a720f05230005d7\",\n          \"602573920a720f05a800025d\"\n        ],\n        \"semantic_type\": \"\",\n        \"description\": \"\"\n      }\n    },\n    {\n      \"column\": \"bonusPointsEarned\",\n      \"properties\": {\n        \"dtype\": \"number\",\n        \"std\": 299.0917307140745,\n        \"min\": 5.0,\n        \"max\": 750.0,\n        \"num_unique_values\": 12,\n        \"samples\": [\n          27.0,\n          45.0,\n          500.0\n        ],\n        \"semantic_type\": \"\",\n        \"description\": \"\"\n      }\n    },\n    {\n      \"column\": \"bonusPointsEarnedReason\",\n      \"properties\": {\n        \"dtype\": \"category\",\n        \"num_unique_values\": 9,\n        \"samples\": [\n          \"COMPLETE_PARTNER_RECEIPT\",\n          \"Receipt number 5 completed, bonus point schedule DEFAULT (5cefdcacf3693e0b50e83a36)\",\n          \"Receipt number 6 completed, bonus point schedule DEFAULT (5cefdcacf3693e0b50e83a36)\"\n        ],\n        \"semantic_type\": \"\",\n        \"description\": \"\"\n      }\n    },\n    {\n      \"column\": \"createDate\",\n      \"properties\": {\n        \"dtype\": \"object\",\n        \"num_unique_values\": 1106,\n        \"samples\": [\n          \"2021-01-19 20:34:04\",\n          \"2021-02-04 04:07:43\",\n          \"2021-01-05 20:38:27\"\n        ],\n        \"semantic_type\": \"\",\n        \"description\": \"\"\n      }\n    },\n    {\n      \"column\": \"dateScanned\",\n      \"properties\": {\n        \"dtype\": \"object\",\n        \"num_unique_values\": 1106,\n        \"samples\": [\n          \"2021-01-19 20:34:04\",\n          \"2021-02-04 04:07:43\",\n          \"2021-01-05 20:38:27\"\n        ],\n        \"semantic_type\": \"\",\n        \"description\": \"\"\n      }\n    },\n    {\n      \"column\": \"finishedDate\",\n      \"properties\": {\n        \"dtype\": \"object\",\n        \"num_unique_values\": 552,\n        \"samples\": [\n          \"2021-02-12 14:11:58\",\n          \"2021-01-06 15:05:08\",\n          \"2021-01-08 15:02:17\"\n        ],\n        \"semantic_type\": \"\",\n        \"description\": \"\"\n      }\n    },\n    {\n      \"column\": \"modifyDate\",\n      \"properties\": {\n        \"dtype\": \"object\",\n        \"num_unique_values\": 1103,\n        \"samples\": [\n          \"2021-01-17 00:04:22\",\n          \"2021-02-27 17:47:35\",\n          \"2021-01-21 03:00:00\"\n        ],\n        \"semantic_type\": \"\",\n        \"description\": \"\"\n      }\n    },\n    {\n      \"column\": \"pointsAwardedDate\",\n      \"properties\": {\n        \"dtype\": \"object\",\n        \"num_unique_values\": 523,\n        \"samples\": [\n          \"2021-02-12 14:11:05\",\n          \"2021-01-27 15:51:07\",\n          \"2021-01-03 15:24:21\"\n        ],\n        \"semantic_type\": \"\",\n        \"description\": \"\"\n      }\n    },\n    {\n      \"column\": \"pointsEarned\",\n      \"properties\": {\n        \"dtype\": \"category\",\n        \"num_unique_values\": 120,\n        \"samples\": [\n          \"1005.0\",\n          \"8950.0\",\n          \"750.0\"\n        ],\n        \"semantic_type\": \"\",\n        \"description\": \"\"\n      }\n    },\n    {\n      \"column\": \"purchaseDate\",\n      \"properties\": {\n        \"dtype\": \"object\",\n        \"num_unique_values\": 358,\n        \"samples\": [\n          \"2021-01-18 06:00:00\",\n          \"2020-12-21 00:00:00\",\n          \"2021-01-25 06:08:40\"\n        ],\n        \"semantic_type\": \"\",\n        \"description\": \"\"\n      }\n    },\n    {\n      \"column\": \"purchasedItemCount\",\n      \"properties\": {\n        \"dtype\": \"number\",\n        \"std\": 61.134240406731564,\n        \"min\": 0.0,\n        \"max\": 689.0,\n        \"num_unique_values\": 50,\n        \"samples\": [\n          86.0,\n          133.0,\n          32.0\n        ],\n        \"semantic_type\": \"\",\n        \"description\": \"\"\n      }\n    },\n    {\n      \"column\": \"rewardsReceiptStatus\",\n      \"properties\": {\n        \"dtype\": \"category\",\n        \"num_unique_values\": 5,\n        \"samples\": [\n          \"REJECTED\",\n          \"PENDING\",\n          \"FLAGGED\"\n        ],\n        \"semantic_type\": \"\",\n        \"description\": \"\"\n      }\n    },\n    {\n      \"column\": \"totalSpent\",\n      \"properties\": {\n        \"dtype\": \"category\",\n        \"num_unique_values\": 94,\n        \"samples\": [\n          \"271.63\",\n          \"9.99\",\n          \"30.57\"\n        ],\n        \"semantic_type\": \"\",\n        \"description\": \"\"\n      }\n    },\n    {\n      \"column\": \"userId\",\n      \"properties\": {\n        \"dtype\": \"category\",\n        \"num_unique_values\": 258,\n        \"samples\": [\n          \"5ffcb47d04929111f6e9256c\",\n          \"5ff75004b3348b11c9336bd6\",\n          \"5ff1e196cfcf6c399c274a38\"\n        ],\n        \"semantic_type\": \"\",\n        \"description\": \"\"\n      }\n    }\n  ]\n}"
            }
          },
          "metadata": {},
          "execution_count": 102
        }
      ]
    },
    {
      "cell_type": "markdown",
      "source": [
        "###Data quality for receipts table"
      ],
      "metadata": {
        "id": "MaEmF4HStaw8"
      }
    },
    {
      "cell_type": "code",
      "source": [
        "# To get summary of the data\n",
        "receipts_df.info()"
      ],
      "metadata": {
        "colab": {
          "base_uri": "https://localhost:8080/",
          "height": 0
        },
        "id": "fi07X9Rd2BWd",
        "outputId": "b9324c72-f042-4c44-f7ad-97656ee2fcc1"
      },
      "execution_count": 103,
      "outputs": [
        {
          "output_type": "stream",
          "name": "stdout",
          "text": [
            "<class 'pandas.core.frame.DataFrame'>\n",
            "RangeIndex: 1119 entries, 0 to 1118\n",
            "Data columns (total 14 columns):\n",
            " #   Column                   Non-Null Count  Dtype  \n",
            "---  ------                   --------------  -----  \n",
            " 0   receipt_id               1119 non-null   object \n",
            " 1   bonusPointsEarned        544 non-null    float64\n",
            " 2   bonusPointsEarnedReason  544 non-null    object \n",
            " 3   createDate               1119 non-null   object \n",
            " 4   dateScanned              1119 non-null   object \n",
            " 5   finishedDate             568 non-null    object \n",
            " 6   modifyDate               1119 non-null   object \n",
            " 7   pointsAwardedDate        537 non-null    object \n",
            " 8   pointsEarned             609 non-null    object \n",
            " 9   purchaseDate             671 non-null    object \n",
            " 10  purchasedItemCount       635 non-null    float64\n",
            " 11  rewardsReceiptStatus     1119 non-null   object \n",
            " 12  totalSpent               684 non-null    object \n",
            " 13  userId                   1119 non-null   object \n",
            "dtypes: float64(2), object(12)\n",
            "memory usage: 122.5+ KB\n"
          ]
        }
      ]
    },
    {
      "cell_type": "code",
      "source": [
        "# To check statistical summary of the data\n",
        "summary_stats = receipts_df.describe()\n",
        "print(summary_stats)"
      ],
      "metadata": {
        "colab": {
          "base_uri": "https://localhost:8080/",
          "height": 0
        },
        "id": "LhqaY6INBrH7",
        "outputId": "2eb4c672-7b02-4e74-858a-48ec93b7becf"
      },
      "execution_count": 104,
      "outputs": [
        {
          "output_type": "stream",
          "name": "stdout",
          "text": [
            "       bonusPointsEarned  purchasedItemCount\n",
            "count         544.000000           635.00000\n",
            "mean          238.893382            14.75748\n",
            "std           299.091731            61.13424\n",
            "min             5.000000             0.00000\n",
            "25%             5.000000             1.00000\n",
            "50%            45.000000             2.00000\n",
            "75%           500.000000             5.00000\n",
            "max           750.000000           689.00000\n"
          ]
        }
      ]
    },
    {
      "cell_type": "code",
      "source": [
        "# Check for missing values\n",
        "missing_values = receipts_df.isnull().sum()\n",
        "print(missing_values)"
      ],
      "metadata": {
        "colab": {
          "base_uri": "https://localhost:8080/",
          "height": 0
        },
        "id": "zrWtLsc_taU5",
        "outputId": "1e2d7610-b12d-4eea-84ef-49b851021aa2"
      },
      "execution_count": 105,
      "outputs": [
        {
          "output_type": "stream",
          "name": "stdout",
          "text": [
            "receipt_id                   0\n",
            "bonusPointsEarned          575\n",
            "bonusPointsEarnedReason    575\n",
            "createDate                   0\n",
            "dateScanned                  0\n",
            "finishedDate               551\n",
            "modifyDate                   0\n",
            "pointsAwardedDate          582\n",
            "pointsEarned               510\n",
            "purchaseDate               448\n",
            "purchasedItemCount         484\n",
            "rewardsReceiptStatus         0\n",
            "totalSpent                 435\n",
            "userId                       0\n",
            "dtype: int64\n"
          ]
        }
      ]
    },
    {
      "cell_type": "code",
      "source": [
        "# Check for duplicates\n",
        "duplicates = receipts_df['receipt_id'].duplicated().sum()\n",
        "print(f\"Duplicate receipt_ids: {duplicates}\")"
      ],
      "metadata": {
        "colab": {
          "base_uri": "https://localhost:8080/",
          "height": 0
        },
        "id": "jSm5MxeU2ZAt",
        "outputId": "ae2416c8-9225-4bbb-b092-b4f572136e10"
      },
      "execution_count": 106,
      "outputs": [
        {
          "output_type": "stream",
          "name": "stdout",
          "text": [
            "Duplicate receipt_ids: 0\n"
          ]
        }
      ]
    },
    {
      "cell_type": "code",
      "source": [
        "# Logical checks for date fields\n",
        "invalid_date_sequence = receipts_df[receipts_df['dateScanned'] > receipts_df['finishedDate']]\n",
        "print(f\"Invalid date sequence count: {len(invalid_date_sequence)}\")"
      ],
      "metadata": {
        "colab": {
          "base_uri": "https://localhost:8080/",
          "height": 0
        },
        "id": "P6t96odS28ji",
        "outputId": "dd301a7d-9fbc-4aa7-dc19-71509a4f7a4f"
      },
      "execution_count": 107,
      "outputs": [
        {
          "output_type": "stream",
          "name": "stdout",
          "text": [
            "Invalid date sequence count: 0\n"
          ]
        }
      ]
    },
    {
      "cell_type": "code",
      "source": [
        "# Convert relevant columns to numeric, forcing errors to NaN\n",
        "receipts_df['bonusPointsEarned'] = pd.to_numeric(receipts_df['bonusPointsEarned'], errors='coerce')\n",
        "receipts_df['pointsEarned'] = pd.to_numeric(receipts_df['pointsEarned'], errors='coerce')\n",
        "receipts_df['totalSpent'] = pd.to_numeric(receipts_df['totalSpent'], errors='coerce')\n",
        "receipts_df['purchasedItemCount'] = pd.to_numeric(receipts_df['purchasedItemCount'], errors='coerce')\n",
        "\n",
        "# After conversion, check for negative or unrealistic values\n",
        "negative_values = receipts_df[(receipts_df['bonusPointsEarned'] < 0) | (receipts_df['pointsEarned'] < 0) |\n",
        "                              (receipts_df['totalSpent'] < 0) | (receipts_df['purchasedItemCount'] < 0)]\n",
        "\n",
        "print(f\"Rows with negative values: {len(negative_values)}\")"
      ],
      "metadata": {
        "colab": {
          "base_uri": "https://localhost:8080/",
          "height": 0
        },
        "id": "MleK050-AZm1",
        "outputId": "175be940-831e-466e-a404-5118a1185c39"
      },
      "execution_count": 108,
      "outputs": [
        {
          "output_type": "stream",
          "name": "stdout",
          "text": [
            "Rows with negative values: 0\n"
          ]
        },
        {
          "output_type": "stream",
          "name": "stderr",
          "text": [
            "<ipython-input-108-4cc7ed5d37bd>:2: SettingWithCopyWarning: \n",
            "A value is trying to be set on a copy of a slice from a DataFrame.\n",
            "Try using .loc[row_indexer,col_indexer] = value instead\n",
            "\n",
            "See the caveats in the documentation: https://pandas.pydata.org/pandas-docs/stable/user_guide/indexing.html#returning-a-view-versus-a-copy\n",
            "  receipts_df['bonusPointsEarned'] = pd.to_numeric(receipts_df['bonusPointsEarned'], errors='coerce')\n",
            "<ipython-input-108-4cc7ed5d37bd>:3: SettingWithCopyWarning: \n",
            "A value is trying to be set on a copy of a slice from a DataFrame.\n",
            "Try using .loc[row_indexer,col_indexer] = value instead\n",
            "\n",
            "See the caveats in the documentation: https://pandas.pydata.org/pandas-docs/stable/user_guide/indexing.html#returning-a-view-versus-a-copy\n",
            "  receipts_df['pointsEarned'] = pd.to_numeric(receipts_df['pointsEarned'], errors='coerce')\n",
            "<ipython-input-108-4cc7ed5d37bd>:4: SettingWithCopyWarning: \n",
            "A value is trying to be set on a copy of a slice from a DataFrame.\n",
            "Try using .loc[row_indexer,col_indexer] = value instead\n",
            "\n",
            "See the caveats in the documentation: https://pandas.pydata.org/pandas-docs/stable/user_guide/indexing.html#returning-a-view-versus-a-copy\n",
            "  receipts_df['totalSpent'] = pd.to_numeric(receipts_df['totalSpent'], errors='coerce')\n",
            "<ipython-input-108-4cc7ed5d37bd>:5: SettingWithCopyWarning: \n",
            "A value is trying to be set on a copy of a slice from a DataFrame.\n",
            "Try using .loc[row_indexer,col_indexer] = value instead\n",
            "\n",
            "See the caveats in the documentation: https://pandas.pydata.org/pandas-docs/stable/user_guide/indexing.html#returning-a-view-versus-a-copy\n",
            "  receipts_df['purchasedItemCount'] = pd.to_numeric(receipts_df['purchasedItemCount'], errors='coerce')\n"
          ]
        }
      ]
    },
    {
      "cell_type": "code",
      "source": [
        "# List unique values to check for inconsistencies\n",
        "print(receipts_df['bonusPointsEarnedReason'].unique())\n",
        "print(receipts_df['rewardsReceiptStatus'].unique())"
      ],
      "metadata": {
        "colab": {
          "base_uri": "https://localhost:8080/",
          "height": 0
        },
        "id": "-IvMECC8BgLU",
        "outputId": "0d2df307-c34e-44aa-c8b0-28e029465cd1"
      },
      "execution_count": 109,
      "outputs": [
        {
          "output_type": "stream",
          "name": "stdout",
          "text": [
            "['Receipt number 2 completed, bonus point schedule DEFAULT (5cefdcacf3693e0b50e83a36)'\n",
            " 'Receipt number 5 completed, bonus point schedule DEFAULT (5cefdcacf3693e0b50e83a36)'\n",
            " 'All-receipts receipt bonus'\n",
            " 'Receipt number 1 completed, bonus point schedule DEFAULT (5cefdcacf3693e0b50e83a36)'\n",
            " 'Receipt number 3 completed, bonus point schedule DEFAULT (5cefdcacf3693e0b50e83a36)'\n",
            " 'Receipt number 6 completed, bonus point schedule DEFAULT (5cefdcacf3693e0b50e83a36)'\n",
            " 'Receipt number 4 completed, bonus point schedule DEFAULT (5cefdcacf3693e0b50e83a36)'\n",
            " nan 'COMPLETE_PARTNER_RECEIPT' 'COMPLETE_NONPARTNER_RECEIPT']\n",
            "['FINISHED' 'REJECTED' 'FLAGGED' 'SUBMITTED' 'PENDING']\n"
          ]
        }
      ]
    },
    {
      "cell_type": "code",
      "source": [
        "# Consistency check between related fields\n",
        "zero_values = receipts_df[(receipts_df['totalSpent'] == 0) | (receipts_df['purchasedItemCount'] == 0)]\n",
        "print(f\"Rows with zero values in totalSpent or purchasedItemCount: {len(zero_values)}\")"
      ],
      "metadata": {
        "colab": {
          "base_uri": "https://localhost:8080/",
          "height": 0
        },
        "id": "Bd-f1HIbCm32",
        "outputId": "a942311d-fbf8-4ea5-948f-d346b36fa48a"
      },
      "execution_count": 110,
      "outputs": [
        {
          "output_type": "stream",
          "name": "stdout",
          "text": [
            "Rows with zero values in totalSpent or purchasedItemCount: 15\n"
          ]
        }
      ]
    },
    {
      "cell_type": "markdown",
      "source": [
        "##SQL Queries"
      ],
      "metadata": {
        "id": "A8nS1UXs7UKv"
      }
    },
    {
      "cell_type": "markdown",
      "source": [
        "Q1"
      ],
      "metadata": {
        "id": "iphuvB1DlBJz"
      }
    },
    {
      "cell_type": "code",
      "source": [
        "def get_top_5_brands_by_receipts():\n",
        "    # Connect to the SQLite database\n",
        "    conn = sqlite3.connect('fetch.db')\n",
        "    cursor = conn.cursor()\n",
        "\n",
        "    # SQL query to find the most recent month\n",
        "    recent_month_query = \"\"\"\n",
        "    SELECT strftime('%Y-%m', datetime(MAX(dateScanned) / 1000, 'unixepoch')) as recent_month\n",
        "    FROM receipts;\n",
        "    \"\"\"\n",
        "\n",
        "    # Execute the query and get the most recent month\n",
        "    cursor.execute(recent_month_query)\n",
        "    recent_month = cursor.fetchone()[0]\n",
        "\n",
        "    print(recent_month)\n",
        "\n",
        "    # SQL query to get the top 5 brands by receipts scanned for the most recent month\n",
        "    top_5_brands_query = f\"\"\"\n",
        "    SELECT b.name, COUNT(distinct r.receipt_id) as cnt\n",
        "    FROM receipts r\n",
        "    JOIN items i ON r.receipt_id = i.receipt_id\n",
        "    JOIN brands b ON i.barcode = b.barcode\n",
        "    WHERE strftime('%Y-%m', datetime((r.dateScanned) / 1000, 'unixepoch')) = '{'2021-01'}'\n",
        "    GROUP BY b.name\n",
        "    ORDER BY cnt DESC\n",
        "    LIMIT 5;\n",
        "    \"\"\"\n",
        "\n",
        "    # Execute the query and fetch the results\n",
        "    cursor.execute(top_5_brands_query)\n",
        "    top_5_brands = cursor.fetchall()\n",
        "\n",
        "    # Convert results to a DataFrame for better readability\n",
        "    df_top_5_brands = pd.DataFrame(top_5_brands, columns=['b.name', 'count'])\n",
        "\n",
        "    # Close the connection\n",
        "    conn.close()\n",
        "\n",
        "    return df_top_5_brands\n",
        "\n",
        "# Get the top 5 brands by receipts scanned for the most recent month\n",
        "df_top_5_brands = get_top_5_brands_by_receipts()\n",
        "print(df_top_5_brands)"
      ],
      "metadata": {
        "colab": {
          "base_uri": "https://localhost:8080/",
          "height": 0
        },
        "id": "Acz8-b2DzSsd",
        "outputId": "6df1f730-a727-4f36-bbcb-3fa24957839c"
      },
      "execution_count": 159,
      "outputs": [
        {
          "output_type": "stream",
          "name": "stdout",
          "text": [
            "2021-03\n",
            "                  b.name  count\n",
            "0               Tostitos     11\n",
            "1                Swanson     11\n",
            "2  Cracker Barrel Cheese     10\n",
            "3                  Prego      4\n",
            "4        Diet Chris Cola      4\n"
          ]
        }
      ]
    },
    {
      "cell_type": "markdown",
      "source": [
        "Q3"
      ],
      "metadata": {
        "id": "sOin9crdlEpc"
      }
    },
    {
      "cell_type": "code",
      "source": [
        "def compare_average_spend():\n",
        "    # Connect to the SQLite database\n",
        "    conn = sqlite3.connect('fetch.db')\n",
        "    cursor = conn.cursor()\n",
        "\n",
        "    # SQL query to calculate the average spend for 'Accepted' and 'Rejected' receipts\n",
        "    query = '''\n",
        "        SELECT rewardsReceiptStatus, AVG(totalSpent) as average_spend\n",
        "        FROM receipts\n",
        "        WHERE rewardsReceiptStatus IN ('FINISHED', 'REJECTED')\n",
        "        GROUP BY rewardsReceiptStatus\n",
        "    '''\n",
        "\n",
        "    # Execute the query\n",
        "    cursor.execute(query)\n",
        "    results = cursor.fetchall()\n",
        "\n",
        "    # Print the results\n",
        "    for row in results:\n",
        "        print(f\"Status: {row[0]}, Average Spend: {row[1]}\")\n",
        "\n",
        "    # Close the connection\n",
        "    conn.close()\n",
        "\n",
        "# Call the function to compare the average spend\n",
        "compare_average_spend()"
      ],
      "metadata": {
        "colab": {
          "base_uri": "https://localhost:8080/",
          "height": 0
        },
        "id": "3iO_gNWnA5_z",
        "outputId": "e9b4abac-d002-45bc-bb97-cd8e83475e05"
      },
      "execution_count": 161,
      "outputs": [
        {
          "output_type": "stream",
          "name": "stdout",
          "text": [
            "Status: FINISHED, Average Spend: 80.85430501930502\n",
            "Status: REJECTED, Average Spend: 23.326056338028184\n"
          ]
        }
      ]
    },
    {
      "cell_type": "markdown",
      "source": [
        "Q4"
      ],
      "metadata": {
        "id": "v2INU6mBlL_f"
      }
    },
    {
      "cell_type": "code",
      "source": [
        "import sqlite3\n",
        "\n",
        "def compare_total_items_purchased():\n",
        "    # Connect to the SQLite database\n",
        "    conn = sqlite3.connect('fetch.db')\n",
        "    cursor = conn.cursor()\n",
        "\n",
        "    # SQL query to calculate the total number of items purchased for 'FINISHED' and 'REJECTED' receipts\n",
        "    query = '''\n",
        "        SELECT rewardsReceiptStatus, SUM(purchasedItemCount) as total_items_purchased\n",
        "        FROM receipts\n",
        "        WHERE rewardsReceiptStatus IN ('FINISHED', 'REJECTED')\n",
        "        GROUP BY rewardsReceiptStatus\n",
        "    '''\n",
        "\n",
        "    # Execute the query\n",
        "    cursor.execute(query)\n",
        "    results = cursor.fetchall()\n",
        "\n",
        "    # Print the results\n",
        "    for row in results:\n",
        "        print(f\"Status: {row[0]}, Total Items Purchased: {row[1]}\")\n",
        "\n",
        "    # Close the connection\n",
        "    conn.close()\n",
        "\n",
        "# Call the function to compare the total items purchased\n",
        "compare_total_items_purchased()\n"
      ],
      "metadata": {
        "colab": {
          "base_uri": "https://localhost:8080/",
          "height": 0
        },
        "id": "Ebcsu-CHLY4I",
        "outputId": "e0a4a7af-dc42-4c26-b749-78dda85e5a75"
      },
      "execution_count": 162,
      "outputs": [
        {
          "output_type": "stream",
          "name": "stdout",
          "text": [
            "Status: FINISHED, Total Items Purchased: 8184\n",
            "Status: REJECTED, Total Items Purchased: 173\n"
          ]
        }
      ]
    },
    {
      "cell_type": "markdown",
      "source": [
        "Q5"
      ],
      "metadata": {
        "id": "KzoEMrBQ6X7-"
      }
    },
    {
      "cell_type": "code",
      "source": [
        "import sqlite3\n",
        "from datetime import datetime, timedelta\n",
        "\n",
        "# Connect to your SQLite database\n",
        "conn = sqlite3.connect('fetch.db')\n",
        "cursor = conn.cursor()\n",
        "\n",
        "# Define the SQL query to fetch the maximum createdDate using SQLite functions\n",
        "max_created_query = \"\"\"\n",
        "SELECT max(createdDate)\n",
        "FROM users;\n",
        "\"\"\"\n",
        "\n",
        "#result_df = pd.read_sql(max_created_query, conn)\n",
        "#print(result_df)\n",
        "\n",
        "# Execute the query to get the maximum createdDate\n",
        "cursor.execute(max_created_query)\n",
        "max_created_date = cursor.fetchone()[0]\n",
        "\n",
        "# Calculate 6 months ago from the max_created_date\n",
        "if max_created_date:\n",
        "    six_months_ago = (datetime.strptime(max_created_date, '%Y-%m-%d %H:%M:%S') - timedelta(days=180)).strftime('%Y-%m-%d %H:%M:%S')\n",
        "    print(f\"Date 6 months ago from {max_created_date}: {six_months_ago}\")\n",
        "else:\n",
        "    print(\"No data found in the users table.\")\n",
        "\n",
        "# SQL query to find the brand with the most spend among users created in the past 6 months\n",
        "query = '''\n",
        "    SELECT b.name, SUM(r.totalSpent) as total_spent\n",
        "    FROM users u\n",
        "    JOIN receipts r ON u._id = r.userId\n",
        "    JOIN items i ON r.receipt_id = i.receipt_id\n",
        "    JOIN brands b ON i.barcode = b.barcode\n",
        "    WHERE datetime((u.createdDate)/1000, 'unixepoch') >= '{six_months_ago}'\n",
        "    GROUP BY b.name\n",
        "    ORDER BY total_spent DESC\n",
        "    LIMIT 1\n",
        "'''\n",
        "\n",
        "# # Execute the query\n",
        "# cursor.execute(query)\n",
        "# brand = cursor.fetchone()[0]\n",
        "\n",
        "result_df = pd.read_sql(query, conn)\n",
        "print(result_df)\n",
        "\n",
        "# Don't forget to close the connection\n",
        "conn.close()\n"
      ],
      "metadata": {
        "colab": {
          "base_uri": "https://localhost:8080/",
          "height": 0
        },
        "id": "zXeodagSIprz",
        "outputId": "2727cf00-09d8-4a9c-a68b-3d93038c83c7"
      },
      "execution_count": 206,
      "outputs": [
        {
          "output_type": "stream",
          "name": "stdout",
          "text": [
            "Date 6 months ago from 2021-02-12 14:11:06: 2020-08-16 14:11:06\n",
            "Empty DataFrame\n",
            "Columns: [name, total_spent]\n",
            "Index: []\n"
          ]
        }
      ]
    },
    {
      "cell_type": "markdown",
      "source": [
        "Q6"
      ],
      "metadata": {
        "id": "gYkAoTmR6adI"
      }
    },
    {
      "cell_type": "code",
      "source": [
        "import sqlite3\n",
        "from datetime import datetime, timedelta\n",
        "\n",
        "# Connect to your SQLite database\n",
        "conn = sqlite3.connect('fetch.db')\n",
        "cursor = conn.cursor()\n",
        "\n",
        "# Define the SQL query to fetch the maximum createdDate using SQLite functions\n",
        "max_created_query = \"\"\"\n",
        "SELECT max(createdDate)\n",
        "FROM users;\n",
        "\"\"\"\n",
        "\n",
        "#result_df = pd.read_sql(max_created_query, conn)\n",
        "#print(result_df)\n",
        "\n",
        "# Execute the query to get the maximum createdDate\n",
        "cursor.execute(max_created_query)\n",
        "max_created_date = cursor.fetchone()[0]\n",
        "\n",
        "# Calculate 6 months ago from the max_created_date\n",
        "if max_created_date:\n",
        "    six_months_ago = (datetime.strptime(max_created_date, '%Y-%m-%d %H:%M:%S') - timedelta(days=180)).strftime('%Y-%m-%d %H:%M:%S')\n",
        "    print(f\"Date 6 months ago from {max_created_date}: {six_months_ago}\")\n",
        "else:\n",
        "    print(\"No data found in the users table.\")\n",
        "\n",
        "# SQL query to find the brand with the most spend among users created in the past 6 months\n",
        "query = '''\n",
        "    SELECT b.name, COUNT(*) as total_spent\n",
        "    FROM users u\n",
        "    JOIN receipts r ON u._id = r.userId\n",
        "    JOIN items i ON r.receipt_id = i.receipt_id\n",
        "    JOIN brands b ON i.barcode = b.barcode\n",
        "    WHERE datetime((u.createdDate)/1000, 'unixepoch') >= '{six_months_ago}'\n",
        "    GROUP BY b.name\n",
        "    ORDER BY total_spent DESC\n",
        "    LIMIT 1\n",
        "'''\n",
        "\n",
        "# # Execute the query\n",
        "# cursor.execute(query)\n",
        "# brand = cursor.fetchone()[0]\n",
        "\n",
        "result_df = pd.read_sql(query, conn)\n",
        "print(result_df)\n",
        "\n",
        "# Don't forget to close the connection\n",
        "conn.close()\n"
      ],
      "metadata": {
        "colab": {
          "base_uri": "https://localhost:8080/",
          "height": 0
        },
        "id": "Ua0jhVicSPZg",
        "outputId": "f3eff556-3983-49c0-8825-2fab57105f33"
      },
      "execution_count": 208,
      "outputs": [
        {
          "output_type": "stream",
          "name": "stdout",
          "text": [
            "Date 6 months ago from 2021-02-12 14:11:06: 2020-08-16 14:11:06\n",
            "Empty DataFrame\n",
            "Columns: [name, total_spent]\n",
            "Index: []\n"
          ]
        }
      ]
    }
  ]
}